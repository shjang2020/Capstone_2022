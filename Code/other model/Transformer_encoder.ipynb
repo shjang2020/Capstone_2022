{
 "cells": [
  {
   "cell_type": "code",
   "execution_count": null,
   "metadata": {
    "id": "66fe8759"
   },
   "outputs": [],
   "source": [
    "import tensorflow as tf\n",
    "import random\n",
    "import os\n",
    "import pickle\n",
    "import numpy as np # linear algebra\n",
    "import pandas as pd # data processing, CSV file I/O (e.g. pd.read_csv)"
   ]
  },
  {
   "cell_type": "code",
   "execution_count": null,
   "metadata": {
    "id": "t4v3_H8sTDe-"
   },
   "outputs": [],
   "source": [
    "def seed_everything(seed: int = 42):\n",
    "    random.seed(seed)\n",
    "    np.random.seed(seed)\n",
    "    os.environ[\"PYTHONHASHSEED\"] = str(seed)\n",
    "    tf.random.set_seed(seed)\n",
    "\n",
    "seed_everything(42)"
   ]
  },
  {
   "cell_type": "code",
   "execution_count": null,
   "metadata": {
    "colab": {
     "base_uri": "https://localhost:8080/"
    },
    "executionInfo": {
     "elapsed": 22060,
     "status": "ok",
     "timestamp": 1653773635544,
     "user": {
      "displayName": "이지평",
      "userId": "04288060060884002898"
     },
     "user_tz": -540
    },
    "id": "6kGpvld8TDty",
    "outputId": "24a1c4c4-91ec-45ac-b2fb-f7abc777241e"
   },
   "outputs": [
    {
     "name": "stdout",
     "output_type": "stream",
     "text": [
      "Mounted at /content/drive\n"
     ]
    }
   ],
   "source": [
    "from google.colab import drive\n",
    "drive.mount('/content/drive')"
   ]
  },
  {
   "cell_type": "code",
   "execution_count": null,
   "metadata": {
    "id": "X-TdRGubTLn2"
   },
   "outputs": [],
   "source": [
    "path = '/content/drive/MyDrive/Colab Notebooks/학교수업/캡스톤/data/'"
   ]
  },
  {
   "cell_type": "code",
   "execution_count": null,
   "metadata": {
    "id": "0d4db6b3"
   },
   "outputs": [],
   "source": [
    "with open(path+\"train_id_data.pickle\",\"rb\") as fr:\n",
    "    train_data = pickle.load(fr)\n",
    "    \n",
    "with open(path+\"valid_id_data.pickle\",\"rb\") as fr:\n",
    "    valid_data = pickle.load(fr)\n",
    "    \n",
    "with open(path+\"test_id_data.pickle\",\"rb\") as fr:\n",
    "    test_data = pickle.load(fr)"
   ]
  },
  {
   "cell_type": "code",
   "execution_count": null,
   "metadata": {
    "id": "00822c00"
   },
   "outputs": [],
   "source": [
    "with open(path+\"train_target.pickle\",\"rb\") as fr:\n",
    "    train_target = pickle.load(fr)\n",
    "    \n",
    "with open(path+\"valid_target.pickle\",\"rb\") as fr:\n",
    "    valid_target = pickle.load(fr)\n",
    "    \n",
    "with open(path+\"test_target.pickle\",\"rb\") as fr:\n",
    "    test_target = pickle.load(fr)"
   ]
  },
  {
   "cell_type": "code",
   "execution_count": null,
   "metadata": {
    "id": "a7J47rayWEE_"
   },
   "outputs": [],
   "source": [
    "# ID\n",
    "train_data[0] = tf.convert_to_tensor(train_data[0], dtype=tf.float32)\n",
    "train_data[1] = tf.convert_to_tensor(train_data[1], dtype=tf.float32)"
   ]
  },
  {
   "cell_type": "markdown",
   "metadata": {
    "id": "4d1e20e3"
   },
   "source": [
    "## Model"
   ]
  },
  {
   "cell_type": "code",
   "execution_count": null,
   "metadata": {
    "id": "2b3f4423"
   },
   "outputs": [],
   "source": [
    "from tensorflow import keras\n",
    "from tensorflow.keras import layers\n",
    "from tensorflow.keras.layers import Input, Embedding, LSTM, Dense, Lambda, Multiply, Bidirectional, Flatten, BatchNormalization, Add, GlobalAveragePooling1D\n",
    "from keras.layers.convolutional import Conv1D\n",
    "from keras.layers.pooling import MaxPool1D\n",
    "from keras.models import Model\n",
    "from keras.layers.wrappers import TimeDistributed\n",
    "import numpy as np\n",
    "import keras.backend as K\n",
    "from random import randint\n",
    "\n",
    "import os\n",
    "os.environ[\"CUDA_DEVICE_ORDER\"] = \"PCI_BUS_ID\"\n",
    "os.environ[\"CUDA_VISIBLE_DEVICES\"] = \"0\"\n",
    "description_num = 5\n",
    "#current_path ='data/'\n",
    "#local_path = 'data/'"
   ]
  },
  {
   "cell_type": "code",
   "execution_count": null,
   "metadata": {
    "id": "WyjTls57JKYN"
   },
   "outputs": [],
   "source": [
    "def transformer_encoder(inputs, head_size, num_heads, ff_dim, dropout=0):\n",
    "    # Normalization and Attention\n",
    "    x = layers.LayerNormalization(epsilon=1e-6)(inputs)\n",
    "    x = layers.MultiHeadAttention(\n",
    "        key_dim=head_size, num_heads=num_heads, dropout=dropout\n",
    "    )(x, x)\n",
    "    x = layers.Dropout(dropout)(x)\n",
    "    res = x + inputs\n",
    "\n",
    "    # Feed Forward Part\n",
    "    x = layers.LayerNormalization(epsilon=1e-6)(res)\n",
    "    x = layers.Conv1D(filters=ff_dim, kernel_size=1, activation=\"relu\")(x)\n",
    "    x = layers.Dropout(dropout)(x)\n",
    "    x = layers.Conv1D(filters=inputs.shape[-1], kernel_size=1)(x)\n",
    "    return x + res"
   ]
  },
  {
   "cell_type": "code",
   "execution_count": null,
   "metadata": {
    "id": "e8d0126b"
   },
   "outputs": [],
   "source": [
    "# set parameters:\n",
    "# V = 142381\n",
    "# V = 226928\n",
    "V = 48456 #  33531 6158 48456\n",
    "embedding_dim = 50\n",
    "max_len = 1 #  1945 77 1\n",
    "filters_num = 64\n",
    "kernel_size = 3\n",
    "\n",
    "head_size = 10\n",
    "num_heads = 5  # Number of attention heads\n",
    "ff_dim = 4  # Hidden layer size in feed forward network inside transformer\n",
    "dropout = 0.2"
   ]
  },
  {
   "cell_type": "code",
   "execution_count": null,
   "metadata": {
    "id": "3a73a9e4"
   },
   "outputs": [],
   "source": [
    "# # description_input=Input(shape=(10,50))\n",
    "# # description_validation=Input(shape=(50,))\n",
    "# input_1 = Input(shape=(description_num, max_len))\n",
    "# input_2 = Input(shape=(max_len,))\n",
    "# embedding = Embedding(input_dim=V,\n",
    "#                       output_dim=embedding_dim,\n",
    "#                       input_length=max_len)\n",
    "# conv1d = Conv1D(filters=filters_num,\n",
    "#                 kernel_size=kernel_size,\n",
    "#                 activation='relu')\n",
    "# maxpool1d = MaxPool1D(max_len-2)\n",
    "# dense = Dense(15)\n",
    "\n",
    "\n",
    "# # transformer\n",
    "# layer_norm = layers.LayerNormalization(epsilon=1e-6)\n",
    "# MHA = layers.MultiHeadAttention(key_dim=head_size, num_heads=num_heads, dropout=dropout)\n",
    "# dropout = layers.Dropout(dropout)\n",
    "\n",
    "# # input_vector=TimeDistributed(embedding)(description_input)\n",
    "# # validation_vector=embedding(description_validation)\n",
    "\n",
    "# input_vector = TimeDistributed(embedding)(input_1)\n",
    "# validation_vector = embedding(input_2)\n",
    "\n",
    "# te_vector = transformer_encoder(input_vector, head_size, num_heads, ff_dim)\n",
    "# validation_te = transformer_encoder(validation_vector, head_size, num_heads, ff_dim)\n",
    "\n",
    "# maxpooling_vector = TimeDistributed(maxpool1d)(te_vector)\n",
    "# validation_maxpooling = maxpool1d(validation_te)\n",
    "\n",
    "# middle_output = TimeDistributed(dense)(maxpooling_vector)\n",
    "# middle_validation = dense(validation_maxpooling)"
   ]
  },
  {
   "cell_type": "code",
   "execution_count": null,
   "metadata": {
    "id": "Vat1I2yKxKV0"
   },
   "outputs": [],
   "source": [
    "# description_input=Input(shape=(10,50))\n",
    "# description_validation=Input(shape=(50,))\n",
    "input_1 = Input(shape=(description_num, max_len))\n",
    "input_2 = Input(shape=(max_len,))\n",
    "embedding = Embedding(input_dim=V,\n",
    "                      output_dim=embedding_dim,\n",
    "                      input_length=max_len)\n",
    "conv1d = Conv1D(filters=filters_num,\n",
    "                kernel_size=kernel_size,\n",
    "                activation='relu')\n",
    "maxpool1d = MaxPool1D(max_len)\n",
    "dense = Dense(15)\n",
    "\n",
    "# transformer\n",
    "layer_norm = layers.LayerNormalization(epsilon=1e-6)\n",
    "MHA = layers.MultiHeadAttention(key_dim=head_size, num_heads=num_heads, dropout=0.2)\n",
    "val_MHA = layers.MultiHeadAttention(key_dim=head_size, num_heads=num_heads, dropout=0.2)\n",
    "dropout = layers.Dropout(0.2)\n",
    "conv1d_f = Conv1D(filters=ff_dim, kernel_size=1, activation=\"relu\")\n",
    "conv1d_f_50 = Conv1D(filters=50 , kernel_size=1)\n",
    "\n",
    "# input_vector=TimeDistributed(embedding)(description_input)\n",
    "# validation_vector=embedding(description_validation)\n",
    "\n",
    "input_vector = TimeDistributed(embedding)(input_1)\n",
    "validation_vector = embedding(input_2)\n",
    "\n",
    "input_vector = TimeDistributed(layer_norm)(input_vector)\n",
    "validation_vector = layer_norm(validation_vector)\n",
    "\n",
    "mha_vector = MHA(input_vector, input_vector)\n",
    "validation_mha  = val_MHA(validation_vector ,validation_vector)\n",
    "\n",
    "mha_vector = TimeDistributed(dropout)(mha_vector)\n",
    "validation_mha = dropout(validation_mha)\n",
    "\n",
    "add_vector = Add()([input_vector, mha_vector ])\n",
    "validation_add = Add()([validation_mha , validation_mha ])\n",
    "\n",
    "ff_vector = TimeDistributed(layer_norm)(add_vector)\n",
    "validation_ff = layer_norm(validation_add)\n",
    "\n",
    "ff_vector = TimeDistributed(conv1d_f)(ff_vector)\n",
    "validation_ff = conv1d_f(validation_ff)\n",
    "\n",
    "ff_vector = TimeDistributed(dropout)(ff_vector)\n",
    "validation_ff = dropout(validation_ff)\n",
    "\n",
    "ff_vector = TimeDistributed(conv1d_f_50)(ff_vector)\n",
    "validation_ff = conv1d_f_50(validation_ff)\n",
    "\n",
    "ff_vector = Add()([add_vector, ff_vector ])\n",
    "validation_ff = Add()([validation_add , validation_ff ])\n",
    "\n",
    "maxpooling_vector = TimeDistributed(maxpool1d)(ff_vector)\n",
    "validation_maxpooling = maxpool1d(validation_ff)\n",
    "\n",
    "middle_output = TimeDistributed(dense)(maxpooling_vector)\n",
    "middle_validation = dense(validation_maxpooling)"
   ]
  },
  {
   "cell_type": "code",
   "execution_count": null,
   "metadata": {
    "colab": {
     "base_uri": "https://localhost:8080/"
    },
    "executionInfo": {
     "elapsed": 2,
     "status": "ok",
     "timestamp": 1653773653189,
     "user": {
      "displayName": "이지평",
      "userId": "04288060060884002898"
     },
     "user_tz": -540
    },
    "id": "9951682b",
    "outputId": "98931d89-54e3-41f1-c117-ad01a7f2fd6f"
   },
   "outputs": [
    {
     "name": "stdout",
     "output_type": "stream",
     "text": [
      "(None, 5, 1, 50) (None, 1, 50) (None, 5, 1, 50) (None, 1, 50) (None, 5, 1, 15) (None, 1, 15)\n"
     ]
    }
   ],
   "source": [
    "print(input_vector.shape, validation_vector.shape,\n",
    "#convolutional_vector.shape, validation_conv.shape,\n",
    "maxpooling_vector.shape, validation_maxpooling.shape,\n",
    "middle_output.shape, middle_validation.shape)"
   ]
  },
  {
   "cell_type": "code",
   "execution_count": null,
   "metadata": {
    "id": "c7660355"
   },
   "outputs": [],
   "source": [
    "def change_dim_1(X):\n",
    "    return K.squeeze(X, 1)\n",
    "\n",
    "def change_dim_2(X):\n",
    "    return K.squeeze(X, 2)\n",
    "\n",
    "def repeat(X):\n",
    "    return K.repeat_elements(X, description_num, 1)\n",
    "\n",
    "def repeat1(X):\n",
    "    return K.repeat_elements(X, 15, 2)\n",
    "\n",
    "def repeat2(X):\n",
    "    return K.repeat_elements(X, description_num, 1)\n",
    "\n",
    "def dot(X, Y):\n",
    "    return K.dot(X, Y)\n",
    "\n",
    "def sum_item(X):\n",
    "    return K.sum(X, axis=2)\n",
    "\n",
    "def sqrt_item(X):\n",
    "    return K.sqrt(X)\n",
    "\n",
    "def cal_denominator(X):\n",
    "    return 1/(X)\n",
    "\n",
    "def expand_item(X):\n",
    "    return K.expand_dims(X, 2)\n",
    "\n",
    "def expand_rate(X):\n",
    "    return K.expand_dims(X, 1)\n",
    "\n",
    "def sum_user(X):\n",
    "    return K.sum(X, 1)\n",
    "\n",
    "def sum_rate(X):\n",
    "    return K.sum(X, 1)\n",
    "\n",
    "def single_exp(X):\n",
    "    return K.exp(X)\n",
    "\n",
    "def sum_exp_denominator(X):\n",
    "    return 1/(K.sum(K.exp(X), 1))"
   ]
  },
  {
   "cell_type": "code",
   "execution_count": null,
   "metadata": {
    "id": "6c00b2cf",
    "scrolled": false
   },
   "outputs": [],
   "source": [
    "# def _test_generator(filename):\n",
    "\n",
    "middle_output_final = Lambda(change_dim_2)(middle_output)#?*10*15\n",
    "middle_validation_final = Lambda(repeat)(middle_validation)#?*10*15\n",
    "molecule = Multiply()([middle_output_final, middle_validation_final])\n",
    "molecule = Lambda(sum_item)(molecule)\n",
    "\n",
    "denominator1 = Multiply()([middle_output_final, middle_output_final])\n",
    "denominator1 = Lambda(sum_item)(denominator1)\n",
    "denominator1 = Lambda(sqrt_item)(denominator1)\n",
    "\n",
    "denominator2 = Multiply()([middle_validation_final, middle_validation_final])\n",
    "denominator2 = Lambda(sum_item)(denominator2)\n",
    "denominator2 = Lambda(sqrt_item)(denominator2)\n",
    "\n",
    "\n",
    "denominator = Multiply()([denominator1, denominator2])\n",
    "denominator = Lambda(cal_denominator)(denominator)\n",
    "\n",
    "similarity = Multiply()([molecule, denominator])\n",
    "similarity = Lambda(expand_item)(similarity)\n",
    "similarity = Lambda(repeat1)(similarity)\n",
    "\n",
    "\n",
    "user = Multiply()([similarity, middle_output_final])\n",
    "user = Lambda(sum_user)(user)\n",
    "\n",
    "\n",
    "item = Lambda(change_dim_1)(middle_validation)\n",
    "\n",
    "\n",
    "rate_hat = Multiply()([user, item])\n",
    "rate_hat = Lambda(sum_rate)(rate_hat)\n",
    "rate_hat = Lambda(expand_rate)(rate_hat)"
   ]
  },
  {
   "cell_type": "code",
   "execution_count": null,
   "metadata": {
    "id": "c3c0847b"
   },
   "outputs": [],
   "source": [
    "model = Model(inputs=[input_1, input_2], outputs=rate_hat)\n",
    "model.compile(optimizer='adam', loss='mse', metrics=['mse', 'mae', 'mape'])"
   ]
  },
  {
   "cell_type": "code",
   "execution_count": null,
   "metadata": {
    "colab": {
     "base_uri": "https://localhost:8080/"
    },
    "executionInfo": {
     "elapsed": 51,
     "status": "ok",
     "timestamp": 1653773675683,
     "user": {
      "displayName": "이지평",
      "userId": "04288060060884002898"
     },
     "user_tz": -540
    },
    "id": "76e1f28c",
    "outputId": "e40ad37e-07e4-4e32-c4a9-2c6ef740d630"
   },
   "outputs": [
    {
     "name": "stdout",
     "output_type": "stream",
     "text": [
      "Model: \"model\"\n",
      "__________________________________________________________________________________________________\n",
      " Layer (type)                   Output Shape         Param #     Connected to                     \n",
      "==================================================================================================\n",
      " input_1 (InputLayer)           [(None, 5, 1)]       0           []                               \n",
      "                                                                                                  \n",
      " input_2 (InputLayer)           [(None, 1)]          0           []                               \n",
      "                                                                                                  \n",
      " time_distributed (TimeDistribu  (None, 5, 1, 50)    2422800     ['input_1[0][0]']                \n",
      " ted)                                                                                             \n",
      "                                                                                                  \n",
      " embedding (Embedding)          (None, 1, 50)        2422800     ['input_2[0][0]']                \n",
      "                                                                                                  \n",
      " time_distributed_1 (TimeDistri  (None, 5, 1, 50)    100         ['time_distributed[0][0]']       \n",
      " buted)                                                                                           \n",
      "                                                                                                  \n",
      " layer_normalization (LayerNorm  (None, 1, 50)       100         ['embedding[0][0]',              \n",
      " alization)                                                       'add_1[0][0]']                  \n",
      "                                                                                                  \n",
      " multi_head_attention (MultiHea  (None, 5, 1, 50)    10200       ['time_distributed_1[0][0]',     \n",
      " dAttention)                                                      'time_distributed_1[0][0]']     \n",
      "                                                                                                  \n",
      " multi_head_attention_1 (MultiH  (None, 1, 50)       10200       ['layer_normalization[0][0]',    \n",
      " eadAttention)                                                    'layer_normalization[0][0]']    \n",
      "                                                                                                  \n",
      " time_distributed_2 (TimeDistri  (None, 5, 1, 50)    0           ['multi_head_attention[0][0]']   \n",
      " buted)                                                                                           \n",
      "                                                                                                  \n",
      " dropout (Dropout)              multiple             0           ['multi_head_attention_1[0][0]', \n",
      "                                                                  'conv1d_1[0][0]']               \n",
      "                                                                                                  \n",
      " add (Add)                      (None, 5, 1, 50)     0           ['time_distributed_1[0][0]',     \n",
      "                                                                  'time_distributed_2[0][0]']     \n",
      "                                                                                                  \n",
      " add_1 (Add)                    (None, 1, 50)        0           ['dropout[0][0]',                \n",
      "                                                                  'dropout[0][0]']                \n",
      "                                                                                                  \n",
      " time_distributed_3 (TimeDistri  (None, 5, 1, 50)    100         ['add[0][0]']                    \n",
      " buted)                                                                                           \n",
      "                                                                                                  \n",
      " time_distributed_4 (TimeDistri  (None, 5, 1, 4)     204         ['time_distributed_3[0][0]']     \n",
      " buted)                                                                                           \n",
      "                                                                                                  \n",
      " conv1d_1 (Conv1D)              (None, 1, 4)         204         ['layer_normalization[1][0]']    \n",
      "                                                                                                  \n",
      " time_distributed_5 (TimeDistri  (None, 5, 1, 4)     0           ['time_distributed_4[0][0]']     \n",
      " buted)                                                                                           \n",
      "                                                                                                  \n",
      " time_distributed_6 (TimeDistri  (None, 5, 1, 50)    250         ['time_distributed_5[0][0]']     \n",
      " buted)                                                                                           \n",
      "                                                                                                  \n",
      " conv1d_2 (Conv1D)              (None, 1, 50)        250         ['dropout[1][0]']                \n",
      "                                                                                                  \n",
      " add_2 (Add)                    (None, 5, 1, 50)     0           ['add[0][0]',                    \n",
      "                                                                  'time_distributed_6[0][0]']     \n",
      "                                                                                                  \n",
      " add_3 (Add)                    (None, 1, 50)        0           ['add_1[0][0]',                  \n",
      "                                                                  'conv1d_2[0][0]']               \n",
      "                                                                                                  \n",
      " time_distributed_7 (TimeDistri  (None, 5, 1, 50)    0           ['add_2[0][0]']                  \n",
      " buted)                                                                                           \n",
      "                                                                                                  \n",
      " max_pooling1d (MaxPooling1D)   (None, 1, 50)        0           ['add_3[0][0]']                  \n",
      "                                                                                                  \n",
      " time_distributed_8 (TimeDistri  (None, 5, 1, 15)    765         ['time_distributed_7[0][0]']     \n",
      " buted)                                                                                           \n",
      "                                                                                                  \n",
      " dense (Dense)                  (None, 1, 15)        765         ['max_pooling1d[0][0]']          \n",
      "                                                                                                  \n",
      " lambda (Lambda)                (None, 5, 15)        0           ['time_distributed_8[0][0]']     \n",
      "                                                                                                  \n",
      " lambda_1 (Lambda)              (None, 5, 15)        0           ['dense[0][0]']                  \n",
      "                                                                                                  \n",
      " multiply_1 (Multiply)          (None, 5, 15)        0           ['lambda[0][0]',                 \n",
      "                                                                  'lambda[0][0]']                 \n",
      "                                                                                                  \n",
      " multiply_2 (Multiply)          (None, 5, 15)        0           ['lambda_1[0][0]',               \n",
      "                                                                  'lambda_1[0][0]']               \n",
      "                                                                                                  \n",
      " lambda_3 (Lambda)              (None, 5)            0           ['multiply_1[0][0]']             \n",
      "                                                                                                  \n",
      " lambda_5 (Lambda)              (None, 5)            0           ['multiply_2[0][0]']             \n",
      "                                                                                                  \n",
      " lambda_4 (Lambda)              (None, 5)            0           ['lambda_3[0][0]']               \n",
      "                                                                                                  \n",
      " lambda_6 (Lambda)              (None, 5)            0           ['lambda_5[0][0]']               \n",
      "                                                                                                  \n",
      " multiply (Multiply)            (None, 5, 15)        0           ['lambda[0][0]',                 \n",
      "                                                                  'lambda_1[0][0]']               \n",
      "                                                                                                  \n",
      " multiply_3 (Multiply)          (None, 5)            0           ['lambda_4[0][0]',               \n",
      "                                                                  'lambda_6[0][0]']               \n",
      "                                                                                                  \n",
      " lambda_2 (Lambda)              (None, 5)            0           ['multiply[0][0]']               \n",
      "                                                                                                  \n",
      " lambda_7 (Lambda)              (None, 5)            0           ['multiply_3[0][0]']             \n",
      "                                                                                                  \n",
      " multiply_4 (Multiply)          (None, 5)            0           ['lambda_2[0][0]',               \n",
      "                                                                  'lambda_7[0][0]']               \n",
      "                                                                                                  \n",
      " lambda_8 (Lambda)              (None, 5, 1)         0           ['multiply_4[0][0]']             \n",
      "                                                                                                  \n",
      " lambda_9 (Lambda)              (None, 5, 15)        0           ['lambda_8[0][0]']               \n",
      "                                                                                                  \n",
      " multiply_5 (Multiply)          (None, 5, 15)        0           ['lambda_9[0][0]',               \n",
      "                                                                  'lambda[0][0]']                 \n",
      "                                                                                                  \n",
      " lambda_10 (Lambda)             (None, 15)           0           ['multiply_5[0][0]']             \n",
      "                                                                                                  \n",
      " lambda_11 (Lambda)             (None, 15)           0           ['dense[0][0]']                  \n",
      "                                                                                                  \n",
      " multiply_6 (Multiply)          (None, 15)           0           ['lambda_10[0][0]',              \n",
      "                                                                  'lambda_11[0][0]']              \n",
      "                                                                                                  \n",
      " lambda_12 (Lambda)             (None,)              0           ['multiply_6[0][0]']             \n",
      "                                                                                                  \n",
      " lambda_13 (Lambda)             (None, 1)            0           ['lambda_12[0][0]']              \n",
      "                                                                                                  \n",
      "==================================================================================================\n",
      "Total params: 2,444,519\n",
      "Trainable params: 2,444,519\n",
      "Non-trainable params: 0\n",
      "__________________________________________________________________________________________________\n"
     ]
    }
   ],
   "source": [
    "model.summary()"
   ]
  },
  {
   "cell_type": "code",
   "execution_count": null,
   "metadata": {
    "colab": {
     "base_uri": "https://localhost:8080/"
    },
    "executionInfo": {
     "elapsed": 86477,
     "status": "ok",
     "timestamp": 1653773764029,
     "user": {
      "displayName": "이지평",
      "userId": "04288060060884002898"
     },
     "user_tz": -540
    },
    "id": "441d8dc5",
    "outputId": "954171f2-6eb3-4d7f-d557-07705c401050"
   },
   "outputs": [
    {
     "name": "stdout",
     "output_type": "stream",
     "text": [
      "Epoch 1/30\n",
      "256/256 [==============================] - ETA: 0s - loss: 18.9796 - mse: 18.9796WARNING:tensorflow:Your input ran out of data; interrupting training. Make sure that your dataset or generator can generate at least `steps_per_epoch * epochs` batches (in this case, 256 batches). You may need to use the repeat() function when building your dataset.\n",
      "256/256 [==============================] - 18s 15ms/step - loss: 18.9796 - mse: 18.9796 - val_loss: 11.4269 - val_mse: 11.4269\n",
      "Epoch 2/30\n",
      "256/256 [==============================] - 2s 9ms/step - loss: 11.0916 - mse: 11.0916\n",
      "Epoch 3/30\n",
      "256/256 [==============================] - 2s 9ms/step - loss: 4.7381 - mse: 4.7381\n",
      "Epoch 4/30\n",
      "256/256 [==============================] - 2s 9ms/step - loss: 3.0252 - mse: 3.0252\n",
      "Epoch 5/30\n",
      "256/256 [==============================] - 2s 9ms/step - loss: 2.5853 - mse: 2.5853\n",
      "Epoch 6/30\n",
      "256/256 [==============================] - 2s 9ms/step - loss: 2.3795 - mse: 2.3795\n",
      "Epoch 7/30\n",
      "256/256 [==============================] - 2s 9ms/step - loss: 2.2400 - mse: 2.2400\n",
      "Epoch 8/30\n",
      "256/256 [==============================] - 2s 9ms/step - loss: 2.1383 - mse: 2.1383\n",
      "Epoch 9/30\n",
      "256/256 [==============================] - 2s 9ms/step - loss: 2.0444 - mse: 2.0444\n",
      "Epoch 10/30\n",
      "256/256 [==============================] - 2s 9ms/step - loss: 1.9718 - mse: 1.9718\n",
      "Epoch 11/30\n",
      "256/256 [==============================] - 2s 9ms/step - loss: 1.9045 - mse: 1.9045\n",
      "Epoch 12/30\n",
      "256/256 [==============================] - 2s 9ms/step - loss: 1.8418 - mse: 1.8418\n",
      "Epoch 13/30\n",
      "256/256 [==============================] - 2s 9ms/step - loss: 1.7833 - mse: 1.7833\n",
      "Epoch 14/30\n",
      "256/256 [==============================] - 2s 9ms/step - loss: 1.7373 - mse: 1.7373\n",
      "Epoch 15/30\n",
      "256/256 [==============================] - 2s 9ms/step - loss: 1.6930 - mse: 1.6930\n",
      "Epoch 16/30\n",
      "256/256 [==============================] - 2s 10ms/step - loss: 1.6592 - mse: 1.6592\n",
      "Epoch 17/30\n",
      "256/256 [==============================] - 2s 9ms/step - loss: 1.6180 - mse: 1.6180\n",
      "Epoch 18/30\n",
      "256/256 [==============================] - 2s 9ms/step - loss: 1.5850 - mse: 1.5850\n",
      "Epoch 19/30\n",
      "256/256 [==============================] - 2s 9ms/step - loss: 1.5471 - mse: 1.5471\n",
      "Epoch 20/30\n",
      "256/256 [==============================] - 2s 9ms/step - loss: 1.5249 - mse: 1.5249\n",
      "Epoch 21/30\n",
      "256/256 [==============================] - 2s 9ms/step - loss: 1.4921 - mse: 1.4921\n",
      "Epoch 22/30\n",
      "256/256 [==============================] - 2s 9ms/step - loss: 1.4608 - mse: 1.4608\n",
      "Epoch 23/30\n",
      "256/256 [==============================] - 2s 9ms/step - loss: 1.4368 - mse: 1.4368\n",
      "Epoch 24/30\n",
      "256/256 [==============================] - 2s 9ms/step - loss: 1.4160 - mse: 1.4160\n",
      "Epoch 25/30\n",
      "256/256 [==============================] - 2s 9ms/step - loss: 1.3784 - mse: 1.3784\n",
      "Epoch 26/30\n",
      "256/256 [==============================] - 2s 9ms/step - loss: 1.3616 - mse: 1.3616\n",
      "Epoch 27/30\n",
      "256/256 [==============================] - 2s 9ms/step - loss: 1.3395 - mse: 1.3395\n",
      "Epoch 28/30\n",
      "256/256 [==============================] - 2s 9ms/step - loss: 1.3147 - mse: 1.3147\n",
      "Epoch 29/30\n",
      "256/256 [==============================] - 2s 9ms/step - loss: 1.2933 - mse: 1.2933\n",
      "Epoch 30/30\n",
      "256/256 [==============================] - 2s 9ms/step - loss: 1.2860 - mse: 1.2860\n"
     ]
    }
   ],
   "source": [
    "hist = model.fit(train_data, train_target,\n",
    "                 validation_data=(valid_data, valid_target),\n",
    "                 steps_per_epoch=256,\n",
    "                 validation_steps=256,\n",
    "                 epochs=30,\n",
    "                 verbose=1)"
   ]
  },
  {
   "cell_type": "code",
   "execution_count": null,
   "metadata": {
    "colab": {
     "base_uri": "https://localhost:8080/"
    },
    "executionInfo": {
     "elapsed": 9757,
     "status": "ok",
     "timestamp": 1653773775929,
     "user": {
      "displayName": "이지평",
      "userId": "04288060060884002898"
     },
     "user_tz": -540
    },
    "id": "f3cd8771",
    "outputId": "87b8b1c0-5d67-44b6-b234-f9526a292452"
   },
   "outputs": [
    {
     "name": "stdout",
     "output_type": "stream",
     "text": [
      "2500/2500 [==============================] - 9s 4ms/step - loss: 2.9177 - mse: 2.9177\n",
      "[2.91770601272583, 2.91770601272583]\n"
     ]
    }
   ],
   "source": [
    "# scores = model.evaluate_generator(_evaluate_generator('train_whole_list_5s.txt','test_whole_list_5s.txt'),steps=134103)\n",
    "# scores = model.evaluate_generator(_evaluate_generator('train_whole_list_10.txt','test_whole_list_10.txt'),steps=34266)\n",
    "# scores = model.evaluate_generator(_evaluate_generator('train_whole_list_6s.txt','test_whole_list_6s.txt'),steps=134103)\n",
    "scores = model.evaluate(test_data, test_target, steps=2500)\n",
    "print(scores)"
   ]
  },
  {
   "cell_type": "code",
   "execution_count": null,
   "metadata": {
    "colab": {
     "base_uri": "https://localhost:8080/"
    },
    "executionInfo": {
     "elapsed": 4880,
     "status": "ok",
     "timestamp": 1653405893418,
     "user": {
      "displayName": "이지평",
      "userId": "04288060060884002898"
     },
     "user_tz": -540
    },
    "id": "d67b1917",
    "outputId": "8719959f-e5ff-4303-e487-7b0488acebac"
   },
   "outputs": [
    {
     "name": "stderr",
     "output_type": "stream",
     "text": [
      "WARNING:absl:Found untraced functions such as query_layer_call_fn, query_layer_call_and_return_conditional_losses, key_layer_call_fn, key_layer_call_and_return_conditional_losses, value_layer_call_fn while saving (showing 5 of 24). These functions will not be directly callable after loading.\n"
     ]
    },
    {
     "name": "stdout",
     "output_type": "stream",
     "text": [
      "INFO:tensorflow:Assets written to: /content/drive/MyDrive/Colab Notebooks/학교수업/캡스톤/model/Anime_30_name_TE/assets\n"
     ]
    },
    {
     "name": "stderr",
     "output_type": "stream",
     "text": [
      "INFO:tensorflow:Assets written to: /content/drive/MyDrive/Colab Notebooks/학교수업/캡스톤/model/Anime_30_name_TE/assets\n"
     ]
    }
   ],
   "source": [
    "model.save(\"/content/drive/MyDrive/Colab Notebooks/학교수업/캡스톤/model/Anime_30_name_TE\")"
   ]
  },
  {
   "cell_type": "code",
   "execution_count": null,
   "metadata": {
    "id": "2a770561"
   },
   "outputs": [],
   "source": []
  },
  {
   "cell_type": "code",
   "execution_count": null,
   "metadata": {
    "id": "5a564620"
   },
   "outputs": [],
   "source": []
  },
  {
   "cell_type": "code",
   "execution_count": null,
   "metadata": {
    "id": "2981ce4f"
   },
   "outputs": [],
   "source": []
  }
 ],
 "metadata": {
  "accelerator": "GPU",
  "colab": {
   "collapsed_sections": [],
   "machine_shape": "hm",
   "name": "Transformer_encoder.ipynb",
   "provenance": []
  },
  "interpreter": {
   "hash": "88632544536f896c8f35d918b5e3583a50162ec118335e005391c3e813c5eb36"
  },
  "kernelspec": {
   "display_name": "Python 3",
   "language": "python",
   "name": "python3"
  },
  "language_info": {
   "codemirror_mode": {
    "name": "ipython",
    "version": 3
   },
   "file_extension": ".py",
   "mimetype": "text/x-python",
   "name": "python",
   "nbconvert_exporter": "python",
   "pygments_lexer": "ipython3",
   "version": "3.8.5"
  },
  "varInspector": {
   "cols": {
    "lenName": 16,
    "lenType": 16,
    "lenVar": 40
   },
   "kernels_config": {
    "python": {
     "delete_cmd_postfix": "",
     "delete_cmd_prefix": "del ",
     "library": "var_list.py",
     "varRefreshCmd": "print(var_dic_list())"
    },
    "r": {
     "delete_cmd_postfix": ") ",
     "delete_cmd_prefix": "rm(",
     "library": "var_list.r",
     "varRefreshCmd": "cat(var_dic_list()) "
    }
   },
   "types_to_exclude": [
    "module",
    "function",
    "builtin_function_or_method",
    "instance",
    "_Feature"
   ],
   "window_display": false
  }
 },
 "nbformat": 4,
 "nbformat_minor": 5
}
