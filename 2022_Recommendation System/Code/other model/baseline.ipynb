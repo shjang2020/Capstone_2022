{
 "cells": [
  {
   "cell_type": "code",
   "execution_count": null,
   "metadata": {
    "id": "66fe8759"
   },
   "outputs": [],
   "source": [
    "import tensorflow as tf\n",
    "import random\n",
    "import os\n",
    "import pickle\n",
    "import numpy as np # linear algebra\n",
    "import pandas as pd # data processing, CSV file I/O (e.g. pd.read_csv)"
   ]
  },
  {
   "cell_type": "code",
   "execution_count": null,
   "metadata": {
    "id": "t4v3_H8sTDe-"
   },
   "outputs": [],
   "source": [
    "def seed_everything(seed: int = 42):\n",
    "    random.seed(seed)\n",
    "    np.random.seed(seed)\n",
    "    os.environ[\"PYTHONHASHSEED\"] = str(seed)\n",
    "    tf.random.set_seed(seed)\n",
    "\n",
    "seed_everything(42)"
   ]
  },
  {
   "cell_type": "code",
   "execution_count": null,
   "metadata": {
    "colab": {
     "base_uri": "https://localhost:8080/"
    },
    "executionInfo": {
     "elapsed": 57724,
     "status": "ok",
     "timestamp": 1653771344296,
     "user": {
      "displayName": "이지평",
      "userId": "04288060060884002898"
     },
     "user_tz": -540
    },
    "id": "6kGpvld8TDty",
    "outputId": "7351e36c-34ed-45b5-a6f9-87423dc064be"
   },
   "outputs": [
    {
     "name": "stdout",
     "output_type": "stream",
     "text": [
      "Mounted at /content/drive\n"
     ]
    }
   ],
   "source": [
    "from google.colab import drive\n",
    "drive.mount('/content/drive')"
   ]
  },
  {
   "cell_type": "code",
   "execution_count": null,
   "metadata": {
    "id": "X-TdRGubTLn2"
   },
   "outputs": [],
   "source": [
    "path = '/content/drive/MyDrive/Colab Notebooks/캡스톤/data/'"
   ]
  },
  {
   "cell_type": "code",
   "execution_count": null,
   "metadata": {
    "id": "0d4db6b3"
   },
   "outputs": [],
   "source": [
    "with open(path+\"train_id_data.pickle\",\"rb\") as fr:\n",
    "    train_data = pickle.load(fr)\n",
    "    \n",
    "with open(path+\"valid_id_data.pickle\",\"rb\") as fr:\n",
    "    valid_data = pickle.load(fr)\n",
    "    \n",
    "with open(path+\"test_id_data.pickle\",\"rb\") as fr:\n",
    "    test_data = pickle.load(fr)"
   ]
  },
  {
   "cell_type": "code",
   "execution_count": null,
   "metadata": {
    "id": "00822c00"
   },
   "outputs": [],
   "source": [
    "with open(path+\"train_target.pickle\",\"rb\") as fr:\n",
    "    train_target = pickle.load(fr)\n",
    "    \n",
    "with open(path+\"valid_target.pickle\",\"rb\") as fr:\n",
    "    valid_target = pickle.load(fr)\n",
    "    \n",
    "with open(path+\"test_target.pickle\",\"rb\") as fr:\n",
    "    test_target = pickle.load(fr)"
   ]
  },
  {
   "cell_type": "code",
   "execution_count": null,
   "metadata": {
    "id": "kTNg2lZu20Ec"
   },
   "outputs": [],
   "source": [
    "# ID\n",
    "train_data[0] = tf.convert_to_tensor(train_data[0], dtype=tf.float32)\n",
    "train_data[1] = tf.convert_to_tensor(train_data[1], dtype=tf.float32)"
   ]
  },
  {
   "cell_type": "markdown",
   "metadata": {
    "id": "4d1e20e3"
   },
   "source": [
    "## Model"
   ]
  },
  {
   "cell_type": "code",
   "execution_count": null,
   "metadata": {
    "id": "2b3f4423"
   },
   "outputs": [],
   "source": [
    "from tensorflow import keras\n",
    "from keras.layers import Input, Embedding, LSTM, Dense, Lambda, Multiply, Bidirectional, Flatten, BatchNormalization, Add\n",
    "from keras.layers.convolutional import Conv1D\n",
    "from keras.layers.pooling import MaxPool1D\n",
    "from keras.models import Model\n",
    "from keras.layers.wrappers import TimeDistributed\n",
    "import numpy as np\n",
    "import keras.backend as K\n",
    "from random import randint\n",
    "\n",
    "import os\n",
    "os.environ[\"CUDA_DEVICE_ORDER\"] = \"PCI_BUS_ID\"\n",
    "os.environ[\"CUDA_VISIBLE_DEVICES\"] = \"0\"\n",
    "description_num = 5\n",
    "#current_path ='data/'\n",
    "#local_path = 'data/'"
   ]
  },
  {
   "cell_type": "code",
   "execution_count": null,
   "metadata": {
    "id": "e8d0126b"
   },
   "outputs": [],
   "source": [
    "# set parameters:\n",
    "# V = 142381\n",
    "# V = 226928\n",
    "V = 48456 #  33531 6158 48456\n",
    "embedding_dim = 50\n",
    "max_len = 1 #  1945 77 1\n",
    "filters_num = 64\n",
    "kernel_size = 3"
   ]
  },
  {
   "cell_type": "code",
   "execution_count": null,
   "metadata": {
    "id": "3a73a9e4"
   },
   "outputs": [],
   "source": [
    "# description_input=Input(shape=(10,50))\n",
    "# description_validation=Input(shape=(50,))\n",
    "input_1 = Input(shape=(description_num, max_len))\n",
    "input_2 = Input(shape=(max_len,))\n",
    "embedding = Embedding(input_dim=V,\n",
    "                      output_dim=embedding_dim,\n",
    "                      input_length=max_len)\n",
    "conv1d = Conv1D(filters=filters_num,\n",
    "                kernel_size=kernel_size,\n",
    "                activation='relu',\n",
    "                padding='same')\n",
    "maxpool1d = MaxPool1D(max_len)\n",
    "dense = Dense(15)\n",
    "\n",
    "# input_vector=TimeDistributed(embedding)(description_input)\n",
    "# validation_vector=embedding(description_validation)\n",
    "\n",
    "input_vector = TimeDistributed(embedding)(input_1)\n",
    "validation_vector = embedding(input_2)\n",
    "\n",
    "convolutional_vector = TimeDistributed(conv1d)(input_vector)\n",
    "validation_conv = conv1d(validation_vector)\n",
    "\n",
    "maxpooling_vector = TimeDistributed(maxpool1d)(convolutional_vector)\n",
    "validation_maxpooling = maxpool1d(validation_conv)\n",
    "\n",
    "middle_output = TimeDistributed(dense)(maxpooling_vector)\n",
    "middle_validation = dense(validation_maxpooling)"
   ]
  },
  {
   "cell_type": "code",
   "execution_count": null,
   "metadata": {
    "colab": {
     "base_uri": "https://localhost:8080/"
    },
    "executionInfo": {
     "elapsed": 2,
     "status": "ok",
     "timestamp": 1653772581453,
     "user": {
      "displayName": "이지평",
      "userId": "04288060060884002898"
     },
     "user_tz": -540
    },
    "id": "9951682b",
    "outputId": "e3df60db-c5ee-4996-dedd-57f298caf3f5"
   },
   "outputs": [
    {
     "name": "stdout",
     "output_type": "stream",
     "text": [
      "(None, 5, 1, 50) (None, 1, 50) (None, 5, 1, 64) (None, 1, 64) (None, 5, 1, 64) (None, 1, 64) (None, 5, 1, 15) (None, 1, 15)\n"
     ]
    }
   ],
   "source": [
    "print(input_vector.shape, validation_vector.shape,\n",
    "      convolutional_vector.shape, validation_conv.shape,\n",
    "      maxpooling_vector.shape, validation_maxpooling.shape,\n",
    "      middle_output.shape, middle_validation.shape)"
   ]
  },
  {
   "cell_type": "code",
   "execution_count": null,
   "metadata": {
    "id": "c7660355"
   },
   "outputs": [],
   "source": [
    "def change_dim_1(X):\n",
    "    return K.squeeze(X, 1)\n",
    "\n",
    "def change_dim_2(X):\n",
    "    return K.squeeze(X, 2)\n",
    "\n",
    "def repeat(X):\n",
    "    return K.repeat_elements(X, description_num, 1)\n",
    "\n",
    "def repeat1(X):\n",
    "    return K.repeat_elements(X, 15, 2)\n",
    "\n",
    "def repeat2(X):\n",
    "    return K.repeat_elements(X, description_num, 1)\n",
    "\n",
    "def dot(X, Y):\n",
    "    return K.dot(X, Y)\n",
    "\n",
    "def sum_item(X):\n",
    "    return K.sum(X, axis=2)\n",
    "\n",
    "def sqrt_item(X):\n",
    "    return K.sqrt(X)\n",
    "\n",
    "def cal_denominator(X):\n",
    "    return 1/(X)\n",
    "\n",
    "def expand_item(X):\n",
    "    return K.expand_dims(X, 2)\n",
    "\n",
    "def expand_rate(X):\n",
    "    return K.expand_dims(X, 1)\n",
    "\n",
    "def sum_user(X):\n",
    "    return K.sum(X, 1)\n",
    "\n",
    "def sum_rate(X):\n",
    "    return K.sum(X, 1)\n",
    "\n",
    "def single_exp(X):\n",
    "    return K.exp(X)\n",
    "\n",
    "def sum_exp_denominator(X):\n",
    "    return 1/(K.sum(K.exp(X), 1))"
   ]
  },
  {
   "cell_type": "code",
   "execution_count": null,
   "metadata": {
    "id": "6c00b2cf",
    "scrolled": false
   },
   "outputs": [],
   "source": [
    "# def _test_generator(filename):\n",
    "\n",
    "middle_output_final = Lambda(change_dim_2)(middle_output)#?*10*15\n",
    "middle_validation_final = Lambda(repeat)(middle_validation)#?*10*15\n",
    "molecule = Multiply()([middle_output_final, middle_validation_final])\n",
    "molecule = Lambda(sum_item)(molecule)\n",
    "\n",
    "denominator1 = Multiply()([middle_output_final, middle_output_final])\n",
    "denominator1 = Lambda(sum_item)(denominator1)\n",
    "denominator1 = Lambda(sqrt_item)(denominator1)\n",
    "\n",
    "denominator2 = Multiply()([middle_validation_final, middle_validation_final])\n",
    "denominator2 = Lambda(sum_item)(denominator2)\n",
    "denominator2 = Lambda(sqrt_item)(denominator2)\n",
    "\n",
    "\n",
    "denominator = Multiply()([denominator1, denominator2])\n",
    "denominator = Lambda(cal_denominator)(denominator)\n",
    "\n",
    "similarity = Multiply()([molecule, denominator])\n",
    "similarity = Lambda(expand_item)(similarity)\n",
    "similarity = Lambda(repeat1)(similarity)\n",
    "\n",
    "\n",
    "user = Multiply()([similarity, middle_output_final])\n",
    "user = Lambda(sum_user)(user)\n",
    "\n",
    "\n",
    "item = Lambda(change_dim_1)(middle_validation)\n",
    "\n",
    "\n",
    "rate_hat = Multiply()([user, item])\n",
    "rate_hat = Lambda(sum_rate)(rate_hat)\n",
    "rate_hat = Lambda(expand_rate)(rate_hat)"
   ]
  },
  {
   "cell_type": "code",
   "execution_count": null,
   "metadata": {
    "id": "c3c0847b"
   },
   "outputs": [],
   "source": [
    "model = Model(inputs=[input_1, input_2], outputs=rate_hat)\n",
    "model.compile(optimizer='adam', loss='mse', metrics=['mse', 'mae', 'mape'])"
   ]
  },
  {
   "cell_type": "code",
   "execution_count": null,
   "metadata": {
    "colab": {
     "base_uri": "https://localhost:8080/"
    },
    "executionInfo": {
     "elapsed": 337,
     "status": "ok",
     "timestamp": 1653772584268,
     "user": {
      "displayName": "이지평",
      "userId": "04288060060884002898"
     },
     "user_tz": -540
    },
    "id": "76e1f28c",
    "outputId": "a8de447e-f97c-48fd-a6c3-f8aa513675ac"
   },
   "outputs": [
    {
     "name": "stdout",
     "output_type": "stream",
     "text": [
      "Model: \"model_1\"\n",
      "__________________________________________________________________________________________________\n",
      " Layer (type)                   Output Shape         Param #     Connected to                     \n",
      "==================================================================================================\n",
      " input_4 (InputLayer)           [(None, 5, 1)]       0           []                               \n",
      "                                                                                                  \n",
      " input_5 (InputLayer)           [(None, 1)]          0           []                               \n",
      "                                                                                                  \n",
      " time_distributed_4 (TimeDistri  (None, 5, 1, 50)    2422800     ['input_4[0][0]']                \n",
      " buted)                                                                                           \n",
      "                                                                                                  \n",
      " embedding_1 (Embedding)        (None, 1, 50)        2422800     ['input_5[0][0]']                \n",
      "                                                                                                  \n",
      " time_distributed_5 (TimeDistri  (None, 5, 1, 64)    9664        ['time_distributed_4[0][0]']     \n",
      " buted)                                                                                           \n",
      "                                                                                                  \n",
      " conv1d_1 (Conv1D)              (None, 1, 64)        9664        ['embedding_1[0][0]']            \n",
      "                                                                                                  \n",
      " time_distributed_6 (TimeDistri  (None, 5, 1, 64)    0           ['time_distributed_5[0][0]']     \n",
      " buted)                                                                                           \n",
      "                                                                                                  \n",
      " max_pooling1d_1 (MaxPooling1D)  (None, 1, 64)       0           ['conv1d_1[0][0]']               \n",
      "                                                                                                  \n",
      " time_distributed_7 (TimeDistri  (None, 5, 1, 15)    975         ['time_distributed_6[0][0]']     \n",
      " buted)                                                                                           \n",
      "                                                                                                  \n",
      " dense_1 (Dense)                (None, 1, 15)        975         ['max_pooling1d_1[0][0]']        \n",
      "                                                                                                  \n",
      " lambda_14 (Lambda)             (None, 5, 15)        0           ['time_distributed_7[0][0]']     \n",
      "                                                                                                  \n",
      " lambda_15 (Lambda)             (None, 5, 15)        0           ['dense_1[0][0]']                \n",
      "                                                                                                  \n",
      " multiply_8 (Multiply)          (None, 5, 15)        0           ['lambda_14[0][0]',              \n",
      "                                                                  'lambda_14[0][0]']              \n",
      "                                                                                                  \n",
      " multiply_9 (Multiply)          (None, 5, 15)        0           ['lambda_15[0][0]',              \n",
      "                                                                  'lambda_15[0][0]']              \n",
      "                                                                                                  \n",
      " lambda_17 (Lambda)             (None, 5)            0           ['multiply_8[0][0]']             \n",
      "                                                                                                  \n",
      " lambda_19 (Lambda)             (None, 5)            0           ['multiply_9[0][0]']             \n",
      "                                                                                                  \n",
      " lambda_18 (Lambda)             (None, 5)            0           ['lambda_17[0][0]']              \n",
      "                                                                                                  \n",
      " lambda_20 (Lambda)             (None, 5)            0           ['lambda_19[0][0]']              \n",
      "                                                                                                  \n",
      " multiply_7 (Multiply)          (None, 5, 15)        0           ['lambda_14[0][0]',              \n",
      "                                                                  'lambda_15[0][0]']              \n",
      "                                                                                                  \n",
      " multiply_10 (Multiply)         (None, 5)            0           ['lambda_18[0][0]',              \n",
      "                                                                  'lambda_20[0][0]']              \n",
      "                                                                                                  \n",
      " lambda_16 (Lambda)             (None, 5)            0           ['multiply_7[0][0]']             \n",
      "                                                                                                  \n",
      " lambda_21 (Lambda)             (None, 5)            0           ['multiply_10[0][0]']            \n",
      "                                                                                                  \n",
      " multiply_11 (Multiply)         (None, 5)            0           ['lambda_16[0][0]',              \n",
      "                                                                  'lambda_21[0][0]']              \n",
      "                                                                                                  \n",
      " lambda_22 (Lambda)             (None, 5, 1)         0           ['multiply_11[0][0]']            \n",
      "                                                                                                  \n",
      " lambda_23 (Lambda)             (None, 5, 15)        0           ['lambda_22[0][0]']              \n",
      "                                                                                                  \n",
      " multiply_12 (Multiply)         (None, 5, 15)        0           ['lambda_23[0][0]',              \n",
      "                                                                  'lambda_14[0][0]']              \n",
      "                                                                                                  \n",
      " lambda_24 (Lambda)             (None, 15)           0           ['multiply_12[0][0]']            \n",
      "                                                                                                  \n",
      " lambda_25 (Lambda)             (None, 15)           0           ['dense_1[0][0]']                \n",
      "                                                                                                  \n",
      " multiply_13 (Multiply)         (None, 15)           0           ['lambda_24[0][0]',              \n",
      "                                                                  'lambda_25[0][0]']              \n",
      "                                                                                                  \n",
      " lambda_26 (Lambda)             (None,)              0           ['multiply_13[0][0]']            \n",
      "                                                                                                  \n",
      " lambda_27 (Lambda)             (None, 1)            0           ['lambda_26[0][0]']              \n",
      "                                                                                                  \n",
      "==================================================================================================\n",
      "Total params: 2,433,439\n",
      "Trainable params: 2,433,439\n",
      "Non-trainable params: 0\n",
      "__________________________________________________________________________________________________\n"
     ]
    }
   ],
   "source": [
    "model.summary()"
   ]
  },
  {
   "cell_type": "code",
   "execution_count": null,
   "metadata": {
    "colab": {
     "base_uri": "https://localhost:8080/"
    },
    "executionInfo": {
     "elapsed": 66932,
     "status": "ok",
     "timestamp": 1653772652607,
     "user": {
      "displayName": "이지평",
      "userId": "04288060060884002898"
     },
     "user_tz": -540
    },
    "id": "441d8dc5",
    "outputId": "a329d85f-cb82-471d-df2c-3ab36849ed93"
   },
   "outputs": [
    {
     "name": "stdout",
     "output_type": "stream",
     "text": [
      "Epoch 1/30\n",
      "256/256 [==============================] - ETA: 0s - loss: 11.0162 - mse: 11.0162 - mae: 2.1636 - mape: 29.4134WARNING:tensorflow:Your input ran out of data; interrupting training. Make sure that your dataset or generator can generate at least `steps_per_epoch * epochs` batches (in this case, 256 batches). You may need to use the repeat() function when building your dataset.\n",
      "256/256 [==============================] - 15s 11ms/step - loss: 11.0162 - mse: 11.0162 - mae: 2.1636 - mape: 29.4134 - val_loss: 2.3843 - val_mse: 2.3843 - val_mae: 1.1818 - val_mape: 18.5417\n",
      "Epoch 2/30\n",
      "256/256 [==============================] - 2s 7ms/step - loss: 2.1531 - mse: 2.1531 - mae: 1.1303 - mape: 18.1770\n",
      "Epoch 3/30\n",
      "256/256 [==============================] - 2s 7ms/step - loss: 2.0886 - mse: 2.0886 - mae: 1.1132 - mape: 17.9269\n",
      "Epoch 4/30\n",
      "256/256 [==============================] - 2s 7ms/step - loss: 2.0626 - mse: 2.0626 - mae: 1.1054 - mape: 17.7706\n",
      "Epoch 5/30\n",
      "256/256 [==============================] - 2s 7ms/step - loss: 2.0477 - mse: 2.0477 - mae: 1.1014 - mape: 17.6824\n",
      "Epoch 6/30\n",
      "256/256 [==============================] - 2s 7ms/step - loss: 2.0325 - mse: 2.0325 - mae: 1.0972 - mape: 17.5873\n",
      "Epoch 7/30\n",
      "256/256 [==============================] - 2s 7ms/step - loss: 2.0151 - mse: 2.0151 - mae: 1.0931 - mape: 17.4926\n",
      "Epoch 8/30\n",
      "256/256 [==============================] - 2s 7ms/step - loss: 1.9923 - mse: 1.9923 - mae: 1.0852 - mape: 17.3634\n",
      "Epoch 9/30\n",
      "256/256 [==============================] - 2s 7ms/step - loss: 1.9641 - mse: 1.9641 - mae: 1.0772 - mape: 17.1970\n",
      "Epoch 10/30\n",
      "256/256 [==============================] - 2s 7ms/step - loss: 1.9336 - mse: 1.9336 - mae: 1.0677 - mape: 17.0094\n",
      "Epoch 11/30\n",
      "256/256 [==============================] - 2s 7ms/step - loss: 1.9044 - mse: 1.9044 - mae: 1.0592 - mape: 16.8334\n",
      "Epoch 12/30\n",
      "256/256 [==============================] - 2s 7ms/step - loss: 1.8704 - mse: 1.8704 - mae: 1.0484 - mape: 16.6192\n",
      "Epoch 13/30\n",
      "256/256 [==============================] - 2s 7ms/step - loss: 1.8480 - mse: 1.8480 - mae: 1.0425 - mape: 16.4908\n",
      "Epoch 14/30\n",
      "256/256 [==============================] - 2s 7ms/step - loss: 1.8184 - mse: 1.8184 - mae: 1.0327 - mape: 16.3199\n",
      "Epoch 15/30\n",
      "256/256 [==============================] - 2s 7ms/step - loss: 1.7959 - mse: 1.7959 - mae: 1.0255 - mape: 16.1826\n",
      "Epoch 16/30\n",
      "256/256 [==============================] - 2s 7ms/step - loss: 1.7758 - mse: 1.7758 - mae: 1.0189 - mape: 16.0607\n",
      "Epoch 17/30\n",
      "256/256 [==============================] - 2s 7ms/step - loss: 1.7534 - mse: 1.7534 - mae: 1.0118 - mape: 15.9306\n",
      "Epoch 18/30\n",
      "256/256 [==============================] - 2s 7ms/step - loss: 1.7334 - mse: 1.7334 - mae: 1.0050 - mape: 15.8023\n",
      "Epoch 19/30\n",
      "256/256 [==============================] - 2s 7ms/step - loss: 1.7171 - mse: 1.7171 - mae: 0.9990 - mape: 15.7043\n",
      "Epoch 20/30\n",
      "256/256 [==============================] - 2s 7ms/step - loss: 1.7055 - mse: 1.7055 - mae: 0.9951 - mape: 15.6157\n",
      "Epoch 21/30\n",
      "256/256 [==============================] - 2s 7ms/step - loss: 1.6832 - mse: 1.6832 - mae: 0.9876 - mape: 15.4979\n",
      "Epoch 22/30\n",
      "256/256 [==============================] - 2s 7ms/step - loss: 1.6648 - mse: 1.6648 - mae: 0.9812 - mape: 15.4019\n",
      "Epoch 23/30\n",
      "256/256 [==============================] - 2s 7ms/step - loss: 1.6548 - mse: 1.6548 - mae: 0.9782 - mape: 15.3342\n",
      "Epoch 24/30\n",
      "256/256 [==============================] - 2s 7ms/step - loss: 1.6438 - mse: 1.6438 - mae: 0.9739 - mape: 15.2543\n",
      "Epoch 25/30\n",
      "256/256 [==============================] - 2s 7ms/step - loss: 1.6272 - mse: 1.6272 - mae: 0.9682 - mape: 15.1702\n",
      "Epoch 26/30\n",
      "256/256 [==============================] - 2s 7ms/step - loss: 1.6165 - mse: 1.6165 - mae: 0.9642 - mape: 15.0956\n",
      "Epoch 27/30\n",
      "256/256 [==============================] - 2s 7ms/step - loss: 1.6049 - mse: 1.6049 - mae: 0.9603 - mape: 15.0319\n",
      "Epoch 28/30\n",
      "256/256 [==============================] - 2s 7ms/step - loss: 1.5962 - mse: 1.5962 - mae: 0.9577 - mape: 14.9832\n",
      "Epoch 29/30\n",
      "256/256 [==============================] - 2s 7ms/step - loss: 1.5861 - mse: 1.5861 - mae: 0.9534 - mape: 14.9123\n",
      "Epoch 30/30\n",
      "256/256 [==============================] - 2s 7ms/step - loss: 1.5709 - mse: 1.5709 - mae: 0.9483 - mape: 14.8403\n"
     ]
    }
   ],
   "source": [
    "hist = model.fit(train_data, train_target,\n",
    "                 validation_data=(valid_data, valid_target),\n",
    "                 steps_per_epoch=256,\n",
    "                 validation_steps=256,\n",
    "                 epochs=30,\n",
    "                 verbose=1)"
   ]
  },
  {
   "cell_type": "code",
   "execution_count": null,
   "metadata": {
    "colab": {
     "base_uri": "https://localhost:8080/"
    },
    "executionInfo": {
     "elapsed": 7121,
     "status": "ok",
     "timestamp": 1653772675635,
     "user": {
      "displayName": "이지평",
      "userId": "04288060060884002898"
     },
     "user_tz": -540
    },
    "id": "f3cd8771",
    "outputId": "9e4d0eb3-01c6-4165-b0c4-694f17ad7dd6",
    "scrolled": true
   },
   "outputs": [
    {
     "name": "stdout",
     "output_type": "stream",
     "text": [
      "2500/2500 [==============================] - 7s 3ms/step - loss: 2.6005 - mse: 2.6005 - mae: 1.2391 - mape: 19.7628\n",
      "[2.6005020141601562, 2.6005020141601562, 1.2390682697296143, 19.76276206970215]\n"
     ]
    }
   ],
   "source": [
    "# scores = model.evaluate_generator(_evaluate_generator('train_whole_list_5s.txt','test_whole_list_5s.txt'),steps=134103)\n",
    "# scores = model.evaluate_generator(_evaluate_generator('train_whole_list_10.txt','test_whole_list_10.txt'),steps=34266)\n",
    "# scores = model.evaluate_generator(_evaluate_generator('train_whole_list_6s.txt','test_whole_list_6s.txt'),steps=134103)\n",
    "scores = model.evaluate(test_data, test_target, steps=2500)\n",
    "print(scores)"
   ]
  },
  {
   "cell_type": "code",
   "execution_count": null,
   "metadata": {
    "colab": {
     "base_uri": "https://localhost:8080/"
    },
    "executionInfo": {
     "elapsed": 3003,
     "status": "ok",
     "timestamp": 1653772717369,
     "user": {
      "displayName": "이지평",
      "userId": "04288060060884002898"
     },
     "user_tz": -540
    },
    "id": "d67b1917",
    "outputId": "096f5227-f015-4a44-be02-c94b1407b30c"
   },
   "outputs": [
    {
     "name": "stdout",
     "output_type": "stream",
     "text": [
      "INFO:tensorflow:Assets written to: /content/drive/MyDrive/Colab Notebooks/학교수업/캡스톤/model/Anime_id_30/assets\n"
     ]
    }
   ],
   "source": [
    "model.save('/content/drive/MyDrive/Colab Notebooks/학교수업/캡스톤/model/Anime_id_30')"
   ]
  },
  {
   "cell_type": "code",
   "execution_count": null,
   "metadata": {
    "id": "ajIfTsjDsV3A"
   },
   "outputs": [],
   "source": []
  },
  {
   "cell_type": "code",
   "execution_count": null,
   "metadata": {
    "id": "2a770561"
   },
   "outputs": [],
   "source": []
  },
  {
   "cell_type": "code",
   "execution_count": null,
   "metadata": {
    "id": "5a564620"
   },
   "outputs": [],
   "source": []
  },
  {
   "cell_type": "code",
   "execution_count": null,
   "metadata": {
    "id": "2981ce4f"
   },
   "outputs": [],
   "source": []
  }
 ],
 "metadata": {
  "accelerator": "GPU",
  "colab": {
   "collapsed_sections": [],
   "machine_shape": "hm",
   "name": "baseline.ipynb",
   "provenance": []
  },
  "interpreter": {
   "hash": "88632544536f896c8f35d918b5e3583a50162ec118335e005391c3e813c5eb36"
  },
  "kernelspec": {
   "display_name": "Python 3",
   "language": "python",
   "name": "python3"
  },
  "language_info": {
   "codemirror_mode": {
    "name": "ipython",
    "version": 3
   },
   "file_extension": ".py",
   "mimetype": "text/x-python",
   "name": "python",
   "nbconvert_exporter": "python",
   "pygments_lexer": "ipython3",
   "version": "3.8.5"
  },
  "varInspector": {
   "cols": {
    "lenName": 16,
    "lenType": 16,
    "lenVar": 40
   },
   "kernels_config": {
    "python": {
     "delete_cmd_postfix": "",
     "delete_cmd_prefix": "del ",
     "library": "var_list.py",
     "varRefreshCmd": "print(var_dic_list())"
    },
    "r": {
     "delete_cmd_postfix": ") ",
     "delete_cmd_prefix": "rm(",
     "library": "var_list.r",
     "varRefreshCmd": "cat(var_dic_list()) "
    }
   },
   "types_to_exclude": [
    "module",
    "function",
    "builtin_function_or_method",
    "instance",
    "_Feature"
   ],
   "window_display": false
  }
 },
 "nbformat": 4,
 "nbformat_minor": 5
}
