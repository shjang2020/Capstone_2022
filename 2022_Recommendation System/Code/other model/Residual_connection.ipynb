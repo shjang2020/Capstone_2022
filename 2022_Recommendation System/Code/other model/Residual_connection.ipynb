{
 "cells": [
  {
   "cell_type": "code",
   "execution_count": null,
   "metadata": {
    "id": "66fe8759"
   },
   "outputs": [],
   "source": [
    "import tensorflow as tf\n",
    "import random\n",
    "import os\n",
    "import pickle\n",
    "import numpy as np # linear algebra\n",
    "import pandas as pd # data processing, CSV file I/O (e.g. pd.read_csv)"
   ]
  },
  {
   "cell_type": "code",
   "execution_count": null,
   "metadata": {
    "id": "t4v3_H8sTDe-"
   },
   "outputs": [],
   "source": [
    "def seed_everything(seed: int = 42):\n",
    "    random.seed(seed)\n",
    "    np.random.seed(seed)\n",
    "    os.environ[\"PYTHONHASHSEED\"] = str(seed)\n",
    "    tf.random.set_seed(seed)\n",
    "\n",
    "seed_everything(42)"
   ]
  },
  {
   "cell_type": "code",
   "execution_count": null,
   "metadata": {
    "colab": {
     "base_uri": "https://localhost:8080/"
    },
    "executionInfo": {
     "elapsed": 18776,
     "status": "ok",
     "timestamp": 1653773241035,
     "user": {
      "displayName": "이지평",
      "userId": "04288060060884002898"
     },
     "user_tz": -540
    },
    "id": "6kGpvld8TDty",
    "outputId": "ca7c7010-b55a-4d8a-9556-e9b8e77d34ff"
   },
   "outputs": [
    {
     "name": "stdout",
     "output_type": "stream",
     "text": [
      "Mounted at /content/drive\n"
     ]
    }
   ],
   "source": [
    "from google.colab import drive\n",
    "drive.mount('/content/drive')"
   ]
  },
  {
   "cell_type": "code",
   "execution_count": null,
   "metadata": {
    "id": "X-TdRGubTLn2"
   },
   "outputs": [],
   "source": [
    "path = '/content/drive/MyDrive/Colab Notebooks/학교수업/캡스톤/data/'"
   ]
  },
  {
   "cell_type": "code",
   "execution_count": null,
   "metadata": {
    "id": "0d4db6b3"
   },
   "outputs": [],
   "source": [
    "with open(path+\"train_id_data.pickle\",\"rb\") as fr:\n",
    "    train_data = pickle.load(fr)\n",
    "    \n",
    "with open(path+\"valid_id_data.pickle\",\"rb\") as fr:\n",
    "    valid_data = pickle.load(fr)\n",
    "    \n",
    "with open(path+\"test_id_data.pickle\",\"rb\") as fr:\n",
    "    test_data = pickle.load(fr)"
   ]
  },
  {
   "cell_type": "code",
   "execution_count": null,
   "metadata": {
    "id": "00822c00"
   },
   "outputs": [],
   "source": [
    "with open(path+\"train_target.pickle\",\"rb\") as fr:\n",
    "    train_target = pickle.load(fr)\n",
    "    \n",
    "with open(path+\"valid_target.pickle\",\"rb\") as fr:\n",
    "    valid_target = pickle.load(fr)\n",
    "    \n",
    "with open(path+\"test_target.pickle\",\"rb\") as fr:\n",
    "    test_target = pickle.load(fr)"
   ]
  },
  {
   "cell_type": "code",
   "execution_count": null,
   "metadata": {
    "id": "a7J47rayWEE_"
   },
   "outputs": [],
   "source": [
    "# ID\n",
    "train_data[0] = tf.convert_to_tensor(train_data[0], dtype=tf.float32)\n",
    "train_data[1] = tf.convert_to_tensor(train_data[1], dtype=tf.float32)"
   ]
  },
  {
   "cell_type": "markdown",
   "metadata": {
    "id": "4d1e20e3"
   },
   "source": [
    "## Model"
   ]
  },
  {
   "cell_type": "code",
   "execution_count": null,
   "metadata": {
    "id": "2b3f4423"
   },
   "outputs": [],
   "source": [
    "from tensorflow import keras\n",
    "from keras.layers import Input, Embedding, LSTM, Dense, Lambda, Multiply, Bidirectional, Flatten, BatchNormalization, Add\n",
    "from keras.layers.convolutional import Conv1D\n",
    "from keras.layers.pooling import MaxPool1D\n",
    "from keras.models import Model\n",
    "from keras.layers.wrappers import TimeDistributed\n",
    "import numpy as np\n",
    "import keras.backend as K\n",
    "from random import randint\n",
    "\n",
    "import os\n",
    "os.environ[\"CUDA_DEVICE_ORDER\"] = \"PCI_BUS_ID\"\n",
    "os.environ[\"CUDA_VISIBLE_DEVICES\"] = \"0\"\n",
    "description_num = 5\n",
    "#current_path ='data/'\n",
    "#local_path = 'data/'"
   ]
  },
  {
   "cell_type": "code",
   "execution_count": null,
   "metadata": {
    "id": "e8d0126b"
   },
   "outputs": [],
   "source": [
    "# set parameters:\n",
    "# V = 142381\n",
    "# V = 226928\n",
    "V = 48456 #  33531 6158 48456\n",
    "embedding_dim = 50\n",
    "max_len = 1 #  1945 77 1\n",
    "filters_num = 64\n",
    "kernel_size = 3"
   ]
  },
  {
   "cell_type": "code",
   "execution_count": null,
   "metadata": {
    "id": "3a73a9e4"
   },
   "outputs": [],
   "source": [
    "# description_input=Input(shape=(10,50))\n",
    "# description_validation=Input(shape=(50,))\n",
    "input_1 = Input(shape=(description_num, max_len))\n",
    "input_2 = Input(shape=(max_len,))\n",
    "embedding = Embedding(input_dim=V,\n",
    "                      output_dim=embedding_dim,\n",
    "                      input_length=max_len)\n",
    "conv1d = Conv1D(filters=filters_num,\n",
    "                kernel_size=kernel_size,\n",
    "                padding='same')\n",
    "maxpool1d = MaxPool1D(max_len)\n",
    "batchnorm1d = BatchNormalization()\n",
    "dense = Dense(15)\n",
    "\n",
    "#input_vector=TimeDistributed(embedding)(description_input)\n",
    "#validation_vector=embedding(description_validation)\n",
    "\n",
    "input_vector = TimeDistributed(embedding)(input_1)\n",
    "validation_vector = embedding(input_2)\n",
    "\n",
    "shortcut_vector = input_vector\n",
    "validation_shortcut = validation_vector\n",
    "\n",
    "# selfatt_vector = TimeDistributed(self_att)(convolutional_vector)\n",
    "# validation_selfatt = self_att(validation_conv)\n",
    "\n",
    "convolutional_vector = TimeDistributed(conv1d)(input_vector)\n",
    "convolutional_vector = TimeDistributed(batchnorm1d)(convolutional_vector)\n",
    "validation_conv = conv1d(validation_vector)\n",
    "validation_conv = batchnorm1d(validation_conv)\n",
    "\n",
    "convolutional_vector = TimeDistributed(conv1d)(input_vector)\n",
    "convolutional_vector = TimeDistributed(batchnorm1d)(convolutional_vector)\n",
    "validation_conv = conv1d(validation_vector)\n",
    "validation_conv = batchnorm1d(validation_conv)\n",
    "\n",
    "convolutional_vector = TimeDistributed(conv1d)(input_vector)\n",
    "convolutional_vector = TimeDistributed(batchnorm1d)(convolutional_vector)\n",
    "validation_conv = conv1d(validation_vector)\n",
    "validation_conv = batchnorm1d(validation_conv)\n",
    "\n",
    "\n",
    "shortcut_vector = TimeDistributed(conv1d)(shortcut_vector)\n",
    "shortcut_vector = TimeDistributed(batchnorm1d)(shortcut_vector)\n",
    "validation_shortcut = conv1d(validation_shortcut)\n",
    "validation_shortcut = batchnorm1d(validation_shortcut)\n",
    "\n",
    "add_vector = Add()([convolutional_vector, shortcut_vector])\n",
    "validation_add = Add()([validation_conv, validation_shortcut])\n",
    "\n",
    "maxpooling_vector = TimeDistributed(maxpool1d)(add_vector)\n",
    "validation_maxpooling = maxpool1d(validation_add)\n",
    "\n",
    "middle_output = TimeDistributed(dense)(maxpooling_vector)\n",
    "middle_validation = dense(validation_maxpooling)"
   ]
  },
  {
   "cell_type": "code",
   "execution_count": null,
   "metadata": {
    "colab": {
     "base_uri": "https://localhost:8080/"
    },
    "executionInfo": {
     "elapsed": 2,
     "status": "ok",
     "timestamp": 1653773258473,
     "user": {
      "displayName": "이지평",
      "userId": "04288060060884002898"
     },
     "user_tz": -540
    },
    "id": "9951682b",
    "outputId": "9bd4e0fb-b7b9-4d35-8777-5d3e2ff89372"
   },
   "outputs": [
    {
     "name": "stdout",
     "output_type": "stream",
     "text": [
      "(None, 5, 1, 50) (None, 1, 50) (None, 5, 1, 64) (None, 1, 64) (None, 5, 1, 64) (None, 1, 64) (None, 5, 1, 64) (None, 1, 64) (None, 5, 1, 64) (None, 1, 64) (None, 5, 1, 15) (None, 1, 15)\n"
     ]
    }
   ],
   "source": [
    "print(input_vector.shape, validation_vector.shape,\n",
    "      convolutional_vector.shape, validation_conv.shape,\n",
    "   #   selfatt_vector.shape, validation_selfatt.shape,\n",
    "      shortcut_vector.shape , validation_shortcut.shape , \n",
    "      add_vector.shape , validation_add.shape , \n",
    "      maxpooling_vector.shape, validation_maxpooling.shape,\n",
    "      middle_output.shape, middle_validation.shape)"
   ]
  },
  {
   "cell_type": "code",
   "execution_count": null,
   "metadata": {
    "id": "c7660355"
   },
   "outputs": [],
   "source": [
    "def change_dim_1(X):\n",
    "    return K.squeeze(X, 1)\n",
    "\n",
    "def change_dim_2(X):\n",
    "    return K.squeeze(X, 2)\n",
    "\n",
    "def repeat(X):\n",
    "    return K.repeat_elements(X, description_num, 1)\n",
    "\n",
    "def repeat1(X):\n",
    "    return K.repeat_elements(X, 15, 2)\n",
    "\n",
    "def repeat2(X):\n",
    "    return K.repeat_elements(X, description_num, 1)\n",
    "\n",
    "def dot(X, Y):\n",
    "    return K.dot(X, Y)\n",
    "\n",
    "def sum_item(X):\n",
    "    return K.sum(X, axis=2)\n",
    "\n",
    "def sqrt_item(X):\n",
    "    return K.sqrt(X)\n",
    "\n",
    "def cal_denominator(X):\n",
    "    return 1/(X)\n",
    "\n",
    "def expand_item(X):\n",
    "    return K.expand_dims(X, 2)\n",
    "\n",
    "def expand_rate(X):\n",
    "    return K.expand_dims(X, 1)\n",
    "\n",
    "def sum_user(X):\n",
    "    return K.sum(X, 1)\n",
    "\n",
    "def sum_rate(X):\n",
    "    return K.sum(X, 1)\n",
    "\n",
    "def single_exp(X):\n",
    "    return K.exp(X)\n",
    "\n",
    "def sum_exp_denominator(X):\n",
    "    return 1/(K.sum(K.exp(X), 1))"
   ]
  },
  {
   "cell_type": "code",
   "execution_count": null,
   "metadata": {
    "id": "6c00b2cf",
    "scrolled": false
   },
   "outputs": [],
   "source": [
    "# def _test_generator(filename):\n",
    "\n",
    "middle_output_final = Lambda(change_dim_2)(middle_output)#?*10*15\n",
    "middle_validation_final = Lambda(repeat)(middle_validation)#?*10*15\n",
    "molecule = Multiply()([middle_output_final, middle_validation_final])\n",
    "molecule = Lambda(sum_item)(molecule)\n",
    "\n",
    "denominator1 = Multiply()([middle_output_final, middle_output_final])\n",
    "denominator1 = Lambda(sum_item)(denominator1)\n",
    "denominator1 = Lambda(sqrt_item)(denominator1)\n",
    "\n",
    "denominator2 = Multiply()([middle_validation_final, middle_validation_final])\n",
    "denominator2 = Lambda(sum_item)(denominator2)\n",
    "denominator2 = Lambda(sqrt_item)(denominator2)\n",
    "\n",
    "\n",
    "denominator = Multiply()([denominator1, denominator2])\n",
    "denominator = Lambda(cal_denominator)(denominator)\n",
    "\n",
    "similarity = Multiply()([molecule, denominator])\n",
    "similarity = Lambda(expand_item)(similarity)\n",
    "similarity = Lambda(repeat1)(similarity)\n",
    "\n",
    "\n",
    "user = Multiply()([similarity, middle_output_final])\n",
    "user = Lambda(sum_user)(user)\n",
    "\n",
    "\n",
    "item = Lambda(change_dim_1)(middle_validation)\n",
    "\n",
    "\n",
    "rate_hat = Multiply()([user, item])\n",
    "rate_hat = Lambda(sum_rate)(rate_hat)\n",
    "rate_hat = Lambda(expand_rate)(rate_hat)"
   ]
  },
  {
   "cell_type": "code",
   "execution_count": null,
   "metadata": {
    "id": "c3c0847b"
   },
   "outputs": [],
   "source": [
    "model = Model(inputs=[input_1, input_2], outputs=rate_hat)\n",
    "model.compile(optimizer='adam', loss='mse', metrics=['mse'])"
   ]
  },
  {
   "cell_type": "code",
   "execution_count": null,
   "metadata": {
    "colab": {
     "base_uri": "https://localhost:8080/"
    },
    "executionInfo": {
     "elapsed": 37,
     "status": "ok",
     "timestamp": 1653773265793,
     "user": {
      "displayName": "이지평",
      "userId": "04288060060884002898"
     },
     "user_tz": -540
    },
    "id": "76e1f28c",
    "outputId": "1ad022f3-4e44-4a2a-b97a-af9492bbb596"
   },
   "outputs": [
    {
     "name": "stdout",
     "output_type": "stream",
     "text": [
      "Model: \"model\"\n",
      "__________________________________________________________________________________________________\n",
      " Layer (type)                   Output Shape         Param #     Connected to                     \n",
      "==================================================================================================\n",
      " input_1 (InputLayer)           [(None, 5, 1)]       0           []                               \n",
      "                                                                                                  \n",
      " input_2 (InputLayer)           [(None, 1)]          0           []                               \n",
      "                                                                                                  \n",
      " time_distributed (TimeDistribu  (None, 5, 1, 50)    2422800     ['input_1[0][0]']                \n",
      " ted)                                                                                             \n",
      "                                                                                                  \n",
      " embedding (Embedding)          (None, 1, 50)        2422800     ['input_2[0][0]']                \n",
      "                                                                                                  \n",
      " time_distributed_5 (TimeDistri  (None, 5, 1, 64)    9664        ['time_distributed[0][0]']       \n",
      " buted)                                                                                           \n",
      "                                                                                                  \n",
      " time_distributed_7 (TimeDistri  (None, 5, 1, 64)    9664        ['time_distributed[0][0]']       \n",
      " buted)                                                                                           \n",
      "                                                                                                  \n",
      " conv1d (Conv1D)                (None, 1, 64)        9664        ['embedding[0][0]',              \n",
      "                                                                  'embedding[0][0]']              \n",
      "                                                                                                  \n",
      " time_distributed_6 (TimeDistri  (None, 5, 1, 64)    256         ['time_distributed_5[0][0]']     \n",
      " buted)                                                                                           \n",
      "                                                                                                  \n",
      " time_distributed_8 (TimeDistri  (None, 5, 1, 64)    256         ['time_distributed_7[0][0]']     \n",
      " buted)                                                                                           \n",
      "                                                                                                  \n",
      " batch_normalization (BatchNorm  (None, 1, 64)       256         ['conv1d[2][0]',                 \n",
      " alization)                                                       'conv1d[3][0]']                 \n",
      "                                                                                                  \n",
      " add (Add)                      (None, 5, 1, 64)     0           ['time_distributed_6[0][0]',     \n",
      "                                                                  'time_distributed_8[0][0]']     \n",
      "                                                                                                  \n",
      " add_1 (Add)                    (None, 1, 64)        0           ['batch_normalization[2][0]',    \n",
      "                                                                  'batch_normalization[3][0]']    \n",
      "                                                                                                  \n",
      " time_distributed_9 (TimeDistri  (None, 5, 1, 64)    0           ['add[0][0]']                    \n",
      " buted)                                                                                           \n",
      "                                                                                                  \n",
      " max_pooling1d (MaxPooling1D)   (None, 1, 64)        0           ['add_1[0][0]']                  \n",
      "                                                                                                  \n",
      " time_distributed_10 (TimeDistr  (None, 5, 1, 15)    975         ['time_distributed_9[0][0]']     \n",
      " ibuted)                                                                                          \n",
      "                                                                                                  \n",
      " dense (Dense)                  (None, 1, 15)        975         ['max_pooling1d[0][0]']          \n",
      "                                                                                                  \n",
      " lambda (Lambda)                (None, 5, 15)        0           ['time_distributed_10[0][0]']    \n",
      "                                                                                                  \n",
      " lambda_1 (Lambda)              (None, 5, 15)        0           ['dense[0][0]']                  \n",
      "                                                                                                  \n",
      " multiply_1 (Multiply)          (None, 5, 15)        0           ['lambda[0][0]',                 \n",
      "                                                                  'lambda[0][0]']                 \n",
      "                                                                                                  \n",
      " multiply_2 (Multiply)          (None, 5, 15)        0           ['lambda_1[0][0]',               \n",
      "                                                                  'lambda_1[0][0]']               \n",
      "                                                                                                  \n",
      " lambda_3 (Lambda)              (None, 5)            0           ['multiply_1[0][0]']             \n",
      "                                                                                                  \n",
      " lambda_5 (Lambda)              (None, 5)            0           ['multiply_2[0][0]']             \n",
      "                                                                                                  \n",
      " lambda_4 (Lambda)              (None, 5)            0           ['lambda_3[0][0]']               \n",
      "                                                                                                  \n",
      " lambda_6 (Lambda)              (None, 5)            0           ['lambda_5[0][0]']               \n",
      "                                                                                                  \n",
      " multiply (Multiply)            (None, 5, 15)        0           ['lambda[0][0]',                 \n",
      "                                                                  'lambda_1[0][0]']               \n",
      "                                                                                                  \n",
      " multiply_3 (Multiply)          (None, 5)            0           ['lambda_4[0][0]',               \n",
      "                                                                  'lambda_6[0][0]']               \n",
      "                                                                                                  \n",
      " lambda_2 (Lambda)              (None, 5)            0           ['multiply[0][0]']               \n",
      "                                                                                                  \n",
      " lambda_7 (Lambda)              (None, 5)            0           ['multiply_3[0][0]']             \n",
      "                                                                                                  \n",
      " multiply_4 (Multiply)          (None, 5)            0           ['lambda_2[0][0]',               \n",
      "                                                                  'lambda_7[0][0]']               \n",
      "                                                                                                  \n",
      " lambda_8 (Lambda)              (None, 5, 1)         0           ['multiply_4[0][0]']             \n",
      "                                                                                                  \n",
      " lambda_9 (Lambda)              (None, 5, 15)        0           ['lambda_8[0][0]']               \n",
      "                                                                                                  \n",
      " multiply_5 (Multiply)          (None, 5, 15)        0           ['lambda_9[0][0]',               \n",
      "                                                                  'lambda[0][0]']                 \n",
      "                                                                                                  \n",
      " lambda_10 (Lambda)             (None, 15)           0           ['multiply_5[0][0]']             \n",
      "                                                                                                  \n",
      " lambda_11 (Lambda)             (None, 15)           0           ['dense[0][0]']                  \n",
      "                                                                                                  \n",
      " multiply_6 (Multiply)          (None, 15)           0           ['lambda_10[0][0]',              \n",
      "                                                                  'lambda_11[0][0]']              \n",
      "                                                                                                  \n",
      " lambda_12 (Lambda)             (None,)              0           ['multiply_6[0][0]']             \n",
      "                                                                                                  \n",
      " lambda_13 (Lambda)             (None, 1)            0           ['lambda_12[0][0]']              \n",
      "                                                                                                  \n",
      "==================================================================================================\n",
      "Total params: 2,433,695\n",
      "Trainable params: 2,433,567\n",
      "Non-trainable params: 128\n",
      "__________________________________________________________________________________________________\n"
     ]
    }
   ],
   "source": [
    "model.summary()"
   ]
  },
  {
   "cell_type": "code",
   "execution_count": null,
   "metadata": {
    "colab": {
     "base_uri": "https://localhost:8080/"
    },
    "executionInfo": {
     "elapsed": 144776,
     "status": "ok",
     "timestamp": 1653773457964,
     "user": {
      "displayName": "이지평",
      "userId": "04288060060884002898"
     },
     "user_tz": -540
    },
    "id": "441d8dc5",
    "outputId": "18916520-8f78-41ba-cad0-db4861e324c1"
   },
   "outputs": [
    {
     "name": "stdout",
     "output_type": "stream",
     "text": [
      "Epoch 1/30\n",
      "256/256 [==============================] - ETA: 0s - loss: 10.6536 - mse: 10.6536WARNING:tensorflow:Your input ran out of data; interrupting training. Make sure that your dataset or generator can generate at least `steps_per_epoch * epochs` batches (in this case, 256 batches). You may need to use the repeat() function when building your dataset.\n",
      "256/256 [==============================] - 18s 18ms/step - loss: 10.6536 - mse: 10.6536 - val_loss: 5.0359 - val_mse: 5.0359\n",
      "Epoch 2/30\n",
      "256/256 [==============================] - 3s 12ms/step - loss: 3.5395 - mse: 3.5395\n",
      "Epoch 3/30\n",
      "256/256 [==============================] - 3s 12ms/step - loss: 3.1021 - mse: 3.1021\n",
      "Epoch 4/30\n",
      "256/256 [==============================] - 3s 12ms/step - loss: 2.8261 - mse: 2.8261\n",
      "Epoch 5/30\n",
      "256/256 [==============================] - 3s 12ms/step - loss: 2.6290 - mse: 2.6290\n",
      "Epoch 6/30\n",
      "256/256 [==============================] - 3s 12ms/step - loss: 2.5211 - mse: 2.5211\n",
      "Epoch 7/30\n",
      "256/256 [==============================] - 3s 11ms/step - loss: 2.4155 - mse: 2.4155\n",
      "Epoch 8/30\n",
      "256/256 [==============================] - 3s 11ms/step - loss: 2.3730 - mse: 2.3730\n",
      "Epoch 9/30\n",
      "256/256 [==============================] - 3s 12ms/step - loss: 2.3247 - mse: 2.3247\n",
      "Epoch 10/30\n",
      "256/256 [==============================] - 3s 11ms/step - loss: 2.2853 - mse: 2.2853\n",
      "Epoch 11/30\n",
      "256/256 [==============================] - 3s 11ms/step - loss: 2.2507 - mse: 2.2507\n",
      "Epoch 12/30\n",
      "256/256 [==============================] - 3s 11ms/step - loss: 2.2288 - mse: 2.2288\n",
      "Epoch 13/30\n",
      "256/256 [==============================] - 3s 12ms/step - loss: 2.1870 - mse: 2.1870\n",
      "Epoch 14/30\n",
      "256/256 [==============================] - 3s 11ms/step - loss: 2.1621 - mse: 2.1621\n",
      "Epoch 15/30\n",
      "256/256 [==============================] - 3s 12ms/step - loss: 2.1497 - mse: 2.1497\n",
      "Epoch 16/30\n",
      "256/256 [==============================] - 3s 12ms/step - loss: 2.1279 - mse: 2.1279\n",
      "Epoch 17/30\n",
      "256/256 [==============================] - 3s 11ms/step - loss: 2.1111 - mse: 2.1111\n",
      "Epoch 18/30\n",
      "256/256 [==============================] - 3s 11ms/step - loss: 2.0779 - mse: 2.0779\n",
      "Epoch 19/30\n",
      "256/256 [==============================] - 3s 12ms/step - loss: 2.0522 - mse: 2.0522\n",
      "Epoch 20/30\n",
      "256/256 [==============================] - 3s 11ms/step - loss: 2.0417 - mse: 2.0417\n",
      "Epoch 21/30\n",
      "256/256 [==============================] - 3s 12ms/step - loss: 2.0209 - mse: 2.0209\n",
      "Epoch 22/30\n",
      "256/256 [==============================] - 3s 11ms/step - loss: 2.0017 - mse: 2.0017\n",
      "Epoch 23/30\n",
      "256/256 [==============================] - 3s 12ms/step - loss: 1.9816 - mse: 1.9816\n",
      "Epoch 24/30\n",
      "256/256 [==============================] - 3s 12ms/step - loss: 1.9605 - mse: 1.9605\n",
      "Epoch 25/30\n",
      "256/256 [==============================] - 3s 11ms/step - loss: 1.9334 - mse: 1.9334\n",
      "Epoch 26/30\n",
      "256/256 [==============================] - 3s 12ms/step - loss: 1.9176 - mse: 1.9176\n",
      "Epoch 27/30\n",
      "256/256 [==============================] - 3s 11ms/step - loss: 1.8956 - mse: 1.8956\n",
      "Epoch 28/30\n",
      "256/256 [==============================] - 3s 12ms/step - loss: 1.9024 - mse: 1.9024\n",
      "Epoch 29/30\n",
      "256/256 [==============================] - 3s 11ms/step - loss: 1.8681 - mse: 1.8681\n",
      "Epoch 30/30\n",
      "256/256 [==============================] - 3s 12ms/step - loss: 1.8451 - mse: 1.8451\n"
     ]
    }
   ],
   "source": [
    "hist = model.fit(train_data, train_target,\n",
    "                 validation_data=(valid_data, valid_target),\n",
    "                 steps_per_epoch=256,\n",
    "                 validation_steps=256,\n",
    "                 epochs=30,\n",
    "                 verbose=1)"
   ]
  },
  {
   "cell_type": "code",
   "execution_count": null,
   "metadata": {
    "colab": {
     "base_uri": "https://localhost:8080/"
    },
    "executionInfo": {
     "elapsed": 9804,
     "status": "ok",
     "timestamp": 1653773467764,
     "user": {
      "displayName": "이지평",
      "userId": "04288060060884002898"
     },
     "user_tz": -540
    },
    "id": "f3cd8771",
    "outputId": "34195df5-3268-478b-927e-05f8bf411f6b"
   },
   "outputs": [
    {
     "name": "stdout",
     "output_type": "stream",
     "text": [
      "2500/2500 [==============================] - 10s 4ms/step - loss: 4.2429 - mse: 4.2429\n",
      "[4.242945671081543, 4.242945671081543]\n"
     ]
    }
   ],
   "source": [
    "# scores = model.evaluate_generator(_evaluate_generator('train_whole_list_5s.txt','test_whole_list_5s.txt'),steps=134103)\n",
    "# scores = model.evaluate_generator(_evaluate_generator('train_whole_list_10.txt','test_whole_list_10.txt'),steps=34266)\n",
    "# scores = model.evaluate_generator(_evaluate_generator('train_whole_list_6s.txt','test_whole_list_6s.txt'),steps=134103)\n",
    "scores = model.evaluate(test_data, test_target, steps=2500)\n",
    "print(scores)"
   ]
  },
  {
   "cell_type": "code",
   "execution_count": null,
   "metadata": {
    "id": "d67b1917"
   },
   "outputs": [],
   "source": [
    "model.save(path+\"Anime_50\")"
   ]
  },
  {
   "cell_type": "code",
   "execution_count": null,
   "metadata": {
    "id": "2a770561"
   },
   "outputs": [],
   "source": []
  },
  {
   "cell_type": "code",
   "execution_count": null,
   "metadata": {
    "id": "5a564620"
   },
   "outputs": [],
   "source": []
  },
  {
   "cell_type": "code",
   "execution_count": null,
   "metadata": {
    "id": "2981ce4f"
   },
   "outputs": [],
   "source": []
  }
 ],
 "metadata": {
  "accelerator": "GPU",
  "colab": {
   "collapsed_sections": [],
   "machine_shape": "hm",
   "name": "Residual_connection.ipynb",
   "provenance": []
  },
  "interpreter": {
   "hash": "88632544536f896c8f35d918b5e3583a50162ec118335e005391c3e813c5eb36"
  },
  "kernelspec": {
   "display_name": "Python 3",
   "language": "python",
   "name": "python3"
  },
  "language_info": {
   "codemirror_mode": {
    "name": "ipython",
    "version": 3
   },
   "file_extension": ".py",
   "mimetype": "text/x-python",
   "name": "python",
   "nbconvert_exporter": "python",
   "pygments_lexer": "ipython3",
   "version": "3.8.5"
  },
  "varInspector": {
   "cols": {
    "lenName": 16,
    "lenType": 16,
    "lenVar": 40
   },
   "kernels_config": {
    "python": {
     "delete_cmd_postfix": "",
     "delete_cmd_prefix": "del ",
     "library": "var_list.py",
     "varRefreshCmd": "print(var_dic_list())"
    },
    "r": {
     "delete_cmd_postfix": ") ",
     "delete_cmd_prefix": "rm(",
     "library": "var_list.r",
     "varRefreshCmd": "cat(var_dic_list()) "
    }
   },
   "types_to_exclude": [
    "module",
    "function",
    "builtin_function_or_method",
    "instance",
    "_Feature"
   ],
   "window_display": false
  }
 },
 "nbformat": 4,
 "nbformat_minor": 5
}
