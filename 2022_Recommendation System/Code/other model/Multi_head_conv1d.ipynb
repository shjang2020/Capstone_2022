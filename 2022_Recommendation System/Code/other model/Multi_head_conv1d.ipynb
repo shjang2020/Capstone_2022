{
 "cells": [
  {
   "cell_type": "code",
   "execution_count": null,
   "metadata": {
    "id": "66fe8759"
   },
   "outputs": [],
   "source": [
    "import tensorflow as tf\n",
    "import random\n",
    "import os\n",
    "import pickle\n",
    "import numpy as np # linear algebra\n",
    "import pandas as pd # data processing, CSV file I/O (e.g. pd.read_csv)"
   ]
  },
  {
   "cell_type": "code",
   "execution_count": null,
   "metadata": {
    "id": "t4v3_H8sTDe-"
   },
   "outputs": [],
   "source": [
    "def seed_everything(seed: int = 42):\n",
    "    random.seed(seed)\n",
    "    np.random.seed(seed)\n",
    "    os.environ[\"PYTHONHASHSEED\"] = str(seed)\n",
    "    tf.random.set_seed(seed)\n",
    "\n",
    "seed_everything(42)"
   ]
  },
  {
   "cell_type": "code",
   "execution_count": null,
   "metadata": {
    "colab": {
     "base_uri": "https://localhost:8080/"
    },
    "executionInfo": {
     "elapsed": 17891,
     "status": "ok",
     "timestamp": 1653772922394,
     "user": {
      "displayName": "이지평",
      "userId": "04288060060884002898"
     },
     "user_tz": -540
    },
    "id": "6kGpvld8TDty",
    "outputId": "f78e9364-fab8-4454-b5ad-52b4426bc46a"
   },
   "outputs": [
    {
     "name": "stdout",
     "output_type": "stream",
     "text": [
      "Mounted at /content/drive\n"
     ]
    }
   ],
   "source": [
    "from google.colab import drive\n",
    "drive.mount('/content/drive')"
   ]
  },
  {
   "cell_type": "code",
   "execution_count": null,
   "metadata": {
    "id": "X-TdRGubTLn2"
   },
   "outputs": [],
   "source": [
    "path = '/content/drive/MyDrive/Colab Notebooks/학교수업/캡스톤/data/'"
   ]
  },
  {
   "cell_type": "code",
   "execution_count": null,
   "metadata": {
    "id": "0d4db6b3"
   },
   "outputs": [],
   "source": [
    "with open(path+\"train_id_data.pickle\",\"rb\") as fr:\n",
    "    train_data = pickle.load(fr)\n",
    "    \n",
    "with open(path+\"valid_id_data.pickle\",\"rb\") as fr:\n",
    "    valid_data = pickle.load(fr)\n",
    "    \n",
    "with open(path+\"test_id_data.pickle\",\"rb\") as fr:\n",
    "    test_data = pickle.load(fr)"
   ]
  },
  {
   "cell_type": "code",
   "execution_count": null,
   "metadata": {
    "id": "00822c00"
   },
   "outputs": [],
   "source": [
    "with open(path+\"train_target.pickle\",\"rb\") as fr:\n",
    "    train_target = pickle.load(fr)\n",
    "    \n",
    "with open(path+\"valid_target.pickle\",\"rb\") as fr:\n",
    "    valid_target = pickle.load(fr)\n",
    "    \n",
    "with open(path+\"test_target.pickle\",\"rb\") as fr:\n",
    "    test_target = pickle.load(fr)"
   ]
  },
  {
   "cell_type": "code",
   "execution_count": null,
   "metadata": {
    "id": "a7J47rayWEE_"
   },
   "outputs": [],
   "source": [
    "# ID\n",
    "train_data[0] = tf.convert_to_tensor(train_data[0], dtype=tf.float32)\n",
    "train_data[1] = tf.convert_to_tensor(train_data[1], dtype=tf.float32)"
   ]
  },
  {
   "cell_type": "markdown",
   "metadata": {
    "id": "4d1e20e3"
   },
   "source": [
    "## Model"
   ]
  },
  {
   "cell_type": "code",
   "execution_count": null,
   "metadata": {
    "colab": {
     "base_uri": "https://localhost:8080/"
    },
    "executionInfo": {
     "elapsed": 6544,
     "status": "ok",
     "timestamp": 1653772950895,
     "user": {
      "displayName": "이지평",
      "userId": "04288060060884002898"
     },
     "user_tz": -540
    },
    "id": "eKRXVaTeL9B8",
    "outputId": "b896cdd2-58b2-4da7-fff9-0e1af2887b19"
   },
   "outputs": [
    {
     "name": "stdout",
     "output_type": "stream",
     "text": [
      "Looking in indexes: https://pypi.org/simple, https://us-python.pkg.dev/colab-wheels/public/simple/\n",
      "Collecting keras_multi_head\n",
      "  Downloading keras-multi-head-0.29.0.tar.gz (13 kB)\n",
      "Collecting keras-self-attention==0.51.0\n",
      "  Downloading keras-self-attention-0.51.0.tar.gz (11 kB)\n",
      "Requirement already satisfied: numpy in /usr/local/lib/python3.7/dist-packages (from keras-self-attention==0.51.0->keras_multi_head) (1.21.6)\n",
      "Building wheels for collected packages: keras-multi-head, keras-self-attention\n",
      "  Building wheel for keras-multi-head (setup.py) ... \u001b[?25l\u001b[?25hdone\n",
      "  Created wheel for keras-multi-head: filename=keras_multi_head-0.29.0-py3-none-any.whl size=14993 sha256=7135ba6c4005925ea49e340968e4c0faebe24ee2111390b4824329c98291e9c1\n",
      "  Stored in directory: /root/.cache/pip/wheels/86/aa/3c/9d15d24005179dae08ff291ce99c754b296347817d076fd9fb\n",
      "  Building wheel for keras-self-attention (setup.py) ... \u001b[?25l\u001b[?25hdone\n",
      "  Created wheel for keras-self-attention: filename=keras_self_attention-0.51.0-py3-none-any.whl size=18912 sha256=58c41d9c8e3ee13b9ff0c551cba7e0a844498712a0be4cb606e02c4a55eef391\n",
      "  Stored in directory: /root/.cache/pip/wheels/95/b1/a8/5ee00cc137940b2f6fa198212e8f45d813d0e0d9c3a04035a3\n",
      "Successfully built keras-multi-head keras-self-attention\n",
      "Installing collected packages: keras-self-attention, keras-multi-head\n",
      "Successfully installed keras-multi-head-0.29.0 keras-self-attention-0.51.0\n"
     ]
    }
   ],
   "source": [
    "!pip install keras_multi_head\n",
    "#!pip install keras_self_attention"
   ]
  },
  {
   "cell_type": "code",
   "execution_count": null,
   "metadata": {
    "id": "2b3f4423"
   },
   "outputs": [],
   "source": [
    "from tensorflow import keras\n",
    "from keras.layers import Input, Embedding, LSTM, Dense, Lambda, Multiply, Bidirectional, Flatten, BatchNormalization, Add\n",
    "from keras.layers.convolutional import Conv1D\n",
    "from keras.layers.pooling import MaxPool1D\n",
    "from keras.models import Model\n",
    "from keras.layers.wrappers import TimeDistributed\n",
    "import numpy as np\n",
    "import keras.backend as K\n",
    "from random import randint\n",
    "from keras_multi_head import MultiHead\n",
    "#from keras_self_attention import SeqSelfAttention as Attention\n",
    "\n",
    "import os\n",
    "os.environ[\"CUDA_DEVICE_ORDER\"] = \"PCI_BUS_ID\"\n",
    "os.environ[\"CUDA_VISIBLE_DEVICES\"] = \"0\"\n",
    "description_num = 5\n",
    "#current_path ='data/'\n",
    "#local_path = 'data/'"
   ]
  },
  {
   "cell_type": "code",
   "execution_count": null,
   "metadata": {
    "id": "e8d0126b"
   },
   "outputs": [],
   "source": [
    "# set parameters:\n",
    "# V = 142381\n",
    "# V = 226928\n",
    "V = 48456 #  33531 6158 48456\n",
    "embedding_dim = 50\n",
    "max_len = 1 #  1945 77 1\n",
    "filters_num = 64\n",
    "kernel_size = 3"
   ]
  },
  {
   "cell_type": "code",
   "execution_count": null,
   "metadata": {
    "id": "3a73a9e4"
   },
   "outputs": [],
   "source": [
    "# description_input=Input(shape=(10,50))\n",
    "# description_validation=Input(shape=(50,))\n",
    "input_1 = Input(shape=(description_num, max_len))\n",
    "input_2 = Input(shape=(max_len,))\n",
    "embedding = Embedding(input_dim=V,\n",
    "                      output_dim=embedding_dim,\n",
    "                      input_length=max_len)\n",
    "conv1d = Conv1D(filters=filters_num,\n",
    "                kernel_size=kernel_size,\n",
    "                activation='relu',\n",
    "                padding='same')\n",
    "maxpool1d = MaxPool1D(max_len)\n",
    "batchnorm1d = BatchNormalization()\n",
    "dense = Dense(15)\n",
    "\n",
    "# input_vector=TimeDistributed(embedding)(description_input)\n",
    "# validation_vector=embedding(description_validation)\n",
    "\n",
    "input_vector = TimeDistributed(embedding)(input_1)\n",
    "validation_vector = embedding(input_2)\n",
    "\n",
    "convolutional_vector = TimeDistributed(MultiHead(conv1d))(input_vector)\n",
    "validation_conv = MultiHead(conv1d)(validation_vector)\n",
    "convolutional_vector = tf.keras.backend.squeeze(convolutional_vector, axis=4)\n",
    "validation_conv = tf.keras.backend.squeeze(validation_conv, axis=3)\n",
    "\n",
    "maxpooling_vector = TimeDistributed(maxpool1d)(convolutional_vector)\n",
    "validation_maxpooling = maxpool1d(validation_conv)\n",
    "\n",
    "middle_output = TimeDistributed(dense)(maxpooling_vector)\n",
    "middle_validation = dense(validation_maxpooling)"
   ]
  },
  {
   "cell_type": "code",
   "execution_count": null,
   "metadata": {
    "colab": {
     "base_uri": "https://localhost:8080/"
    },
    "executionInfo": {
     "elapsed": 291,
     "status": "ok",
     "timestamp": 1653772956103,
     "user": {
      "displayName": "이지평",
      "userId": "04288060060884002898"
     },
     "user_tz": -540
    },
    "id": "9951682b",
    "outputId": "df66c601-6179-4314-bf62-5a00068ae5df"
   },
   "outputs": [
    {
     "name": "stdout",
     "output_type": "stream",
     "text": [
      "(None, 5, 1, 50) (None, 1, 50) (None, 5, 1, 64) (None, 1, 64) (None, 5, 1, 64) (None, 1, 64) (None, 5, 1, 15) (None, 1, 15)\n"
     ]
    }
   ],
   "source": [
    "print(input_vector.shape, validation_vector.shape,\n",
    "      convolutional_vector.shape, validation_conv.shape,\n",
    "      maxpooling_vector.shape, validation_maxpooling.shape,\n",
    "      middle_output.shape, middle_validation.shape)"
   ]
  },
  {
   "cell_type": "code",
   "execution_count": null,
   "metadata": {
    "id": "c7660355"
   },
   "outputs": [],
   "source": [
    "def change_dim_1(X):\n",
    "    return K.squeeze(X, 1)\n",
    "\n",
    "def change_dim_2(X):\n",
    "    return K.squeeze(X, 2)\n",
    "\n",
    "def repeat(X):\n",
    "    return K.repeat_elements(X, description_num, 1)\n",
    "\n",
    "def repeat1(X):\n",
    "    return K.repeat_elements(X, 15, 2)\n",
    "\n",
    "def repeat2(X):\n",
    "    return K.repeat_elements(X, description_num, 1)\n",
    "\n",
    "def dot(X, Y):\n",
    "    return K.dot(X, Y)\n",
    "\n",
    "def sum_item(X):\n",
    "    return K.sum(X, axis=2)\n",
    "\n",
    "def sqrt_item(X):\n",
    "    return K.sqrt(X)\n",
    "\n",
    "def cal_denominator(X):\n",
    "    return 1/(X)\n",
    "\n",
    "def expand_item(X):\n",
    "    return K.expand_dims(X, 2)\n",
    "\n",
    "def expand_rate(X):\n",
    "    return K.expand_dims(X, 1)\n",
    "\n",
    "def sum_user(X):\n",
    "    return K.sum(X, 1)\n",
    "\n",
    "def sum_rate(X):\n",
    "    return K.sum(X, 1)\n",
    "\n",
    "def single_exp(X):\n",
    "    return K.exp(X)\n",
    "\n",
    "def sum_exp_denominator(X):\n",
    "    return 1/(K.sum(K.exp(X), 1))"
   ]
  },
  {
   "cell_type": "code",
   "execution_count": null,
   "metadata": {
    "id": "6c00b2cf",
    "scrolled": false
   },
   "outputs": [],
   "source": [
    "# def _test_generator(filename):\n",
    "\n",
    "middle_output_final = Lambda(change_dim_2)(middle_output)#?*10*15\n",
    "middle_validation_final = Lambda(repeat)(middle_validation)#?*10*15\n",
    "molecule = Multiply()([middle_output_final, middle_validation_final])\n",
    "molecule = Lambda(sum_item)(molecule)\n",
    "\n",
    "denominator1 = Multiply()([middle_output_final, middle_output_final])\n",
    "denominator1 = Lambda(sum_item)(denominator1)\n",
    "denominator1 = Lambda(sqrt_item)(denominator1)\n",
    "\n",
    "denominator2 = Multiply()([middle_validation_final, middle_validation_final])\n",
    "denominator2 = Lambda(sum_item)(denominator2)\n",
    "denominator2 = Lambda(sqrt_item)(denominator2)\n",
    "\n",
    "\n",
    "denominator = Multiply()([denominator1, denominator2])\n",
    "denominator = Lambda(cal_denominator)(denominator)\n",
    "\n",
    "similarity = Multiply()([molecule, denominator])\n",
    "similarity = Lambda(expand_item)(similarity)\n",
    "similarity = Lambda(repeat1)(similarity)\n",
    "\n",
    "\n",
    "user = Multiply()([similarity, middle_output_final])\n",
    "user = Lambda(sum_user)(user)\n",
    "\n",
    "\n",
    "item = Lambda(change_dim_1)(middle_validation)\n",
    "\n",
    "\n",
    "rate_hat = Multiply()([user, item])\n",
    "rate_hat = Lambda(sum_rate)(rate_hat)\n",
    "rate_hat = Lambda(expand_rate)(rate_hat)"
   ]
  },
  {
   "cell_type": "code",
   "execution_count": null,
   "metadata": {
    "id": "c3c0847b"
   },
   "outputs": [],
   "source": [
    "model = Model(inputs=[input_1, input_2], outputs=rate_hat)\n",
    "model.compile(optimizer='adam', loss='mse', metrics=['mse', 'mae', 'mape'])"
   ]
  },
  {
   "cell_type": "code",
   "execution_count": null,
   "metadata": {
    "colab": {
     "base_uri": "https://localhost:8080/"
    },
    "executionInfo": {
     "elapsed": 32,
     "status": "ok",
     "timestamp": 1653772962685,
     "user": {
      "displayName": "이지평",
      "userId": "04288060060884002898"
     },
     "user_tz": -540
    },
    "id": "76e1f28c",
    "outputId": "3fd4814d-1b4b-48f8-eb9c-a50c2c96a972"
   },
   "outputs": [
    {
     "name": "stdout",
     "output_type": "stream",
     "text": [
      "Model: \"model\"\n",
      "__________________________________________________________________________________________________\n",
      " Layer (type)                   Output Shape         Param #     Connected to                     \n",
      "==================================================================================================\n",
      " input_3 (InputLayer)           [(None, 5, 1)]       0           []                               \n",
      "                                                                                                  \n",
      " input_4 (InputLayer)           [(None, 1)]          0           []                               \n",
      "                                                                                                  \n",
      " time_distributed (TimeDistribu  (None, 5, 1, 50)    2422800     ['input_3[0][0]']                \n",
      " ted)                                                                                             \n",
      "                                                                                                  \n",
      " embedding_1 (Embedding)        (None, 1, 50)        2422800     ['input_4[0][0]']                \n",
      "                                                                                                  \n",
      " time_distributed_1 (TimeDistri  (None, 5, 1, 64, 1)  9664       ['time_distributed[0][0]']       \n",
      " buted)                                                                                           \n",
      "                                                                                                  \n",
      " multi_head_1 (MultiHead)       (None, 1, 64, 1)     9664        ['embedding_1[0][0]']            \n",
      "                                                                                                  \n",
      " tf.compat.v1.squeeze (TFOpLamb  (None, 5, 1, 64)    0           ['time_distributed_1[0][0]']     \n",
      " da)                                                                                              \n",
      "                                                                                                  \n",
      " tf.compat.v1.squeeze_1 (TFOpLa  (None, 1, 64)       0           ['multi_head_1[0][0]']           \n",
      " mbda)                                                                                            \n",
      "                                                                                                  \n",
      " time_distributed_2 (TimeDistri  (None, 5, 1, 64)    0           ['tf.compat.v1.squeeze[0][0]']   \n",
      " buted)                                                                                           \n",
      "                                                                                                  \n",
      " max_pooling1d_1 (MaxPooling1D)  (None, 1, 64)       0           ['tf.compat.v1.squeeze_1[0][0]'] \n",
      "                                                                                                  \n",
      " time_distributed_3 (TimeDistri  (None, 5, 1, 15)    975         ['time_distributed_2[0][0]']     \n",
      " buted)                                                                                           \n",
      "                                                                                                  \n",
      " dense (Dense)                  (None, 1, 15)        975         ['max_pooling1d_1[0][0]']        \n",
      "                                                                                                  \n",
      " lambda (Lambda)                (None, 5, 15)        0           ['time_distributed_3[0][0]']     \n",
      "                                                                                                  \n",
      " lambda_1 (Lambda)              (None, 5, 15)        0           ['dense[0][0]']                  \n",
      "                                                                                                  \n",
      " multiply_1 (Multiply)          (None, 5, 15)        0           ['lambda[0][0]',                 \n",
      "                                                                  'lambda[0][0]']                 \n",
      "                                                                                                  \n",
      " multiply_2 (Multiply)          (None, 5, 15)        0           ['lambda_1[0][0]',               \n",
      "                                                                  'lambda_1[0][0]']               \n",
      "                                                                                                  \n",
      " lambda_3 (Lambda)              (None, 5)            0           ['multiply_1[0][0]']             \n",
      "                                                                                                  \n",
      " lambda_5 (Lambda)              (None, 5)            0           ['multiply_2[0][0]']             \n",
      "                                                                                                  \n",
      " lambda_4 (Lambda)              (None, 5)            0           ['lambda_3[0][0]']               \n",
      "                                                                                                  \n",
      " lambda_6 (Lambda)              (None, 5)            0           ['lambda_5[0][0]']               \n",
      "                                                                                                  \n",
      " multiply (Multiply)            (None, 5, 15)        0           ['lambda[0][0]',                 \n",
      "                                                                  'lambda_1[0][0]']               \n",
      "                                                                                                  \n",
      " multiply_3 (Multiply)          (None, 5)            0           ['lambda_4[0][0]',               \n",
      "                                                                  'lambda_6[0][0]']               \n",
      "                                                                                                  \n",
      " lambda_2 (Lambda)              (None, 5)            0           ['multiply[0][0]']               \n",
      "                                                                                                  \n",
      " lambda_7 (Lambda)              (None, 5)            0           ['multiply_3[0][0]']             \n",
      "                                                                                                  \n",
      " multiply_4 (Multiply)          (None, 5)            0           ['lambda_2[0][0]',               \n",
      "                                                                  'lambda_7[0][0]']               \n",
      "                                                                                                  \n",
      " lambda_8 (Lambda)              (None, 5, 1)         0           ['multiply_4[0][0]']             \n",
      "                                                                                                  \n",
      " lambda_9 (Lambda)              (None, 5, 15)        0           ['lambda_8[0][0]']               \n",
      "                                                                                                  \n",
      " multiply_5 (Multiply)          (None, 5, 15)        0           ['lambda_9[0][0]',               \n",
      "                                                                  'lambda[0][0]']                 \n",
      "                                                                                                  \n",
      " lambda_10 (Lambda)             (None, 15)           0           ['multiply_5[0][0]']             \n",
      "                                                                                                  \n",
      " lambda_11 (Lambda)             (None, 15)           0           ['dense[0][0]']                  \n",
      "                                                                                                  \n",
      " multiply_6 (Multiply)          (None, 15)           0           ['lambda_10[0][0]',              \n",
      "                                                                  'lambda_11[0][0]']              \n",
      "                                                                                                  \n",
      " lambda_12 (Lambda)             (None,)              0           ['multiply_6[0][0]']             \n",
      "                                                                                                  \n",
      " lambda_13 (Lambda)             (None, 1)            0           ['lambda_12[0][0]']              \n",
      "                                                                                                  \n",
      "==================================================================================================\n",
      "Total params: 2,443,103\n",
      "Trainable params: 2,443,103\n",
      "Non-trainable params: 0\n",
      "__________________________________________________________________________________________________\n"
     ]
    }
   ],
   "source": [
    "model.summary()"
   ]
  },
  {
   "cell_type": "code",
   "execution_count": null,
   "metadata": {
    "colab": {
     "base_uri": "https://localhost:8080/"
    },
    "executionInfo": {
     "elapsed": 82515,
     "status": "ok",
     "timestamp": 1653773047177,
     "user": {
      "displayName": "이지평",
      "userId": "04288060060884002898"
     },
     "user_tz": -540
    },
    "id": "441d8dc5",
    "outputId": "fd888e22-e343-41e0-d4b9-d5d59e5d2dbe"
   },
   "outputs": [
    {
     "name": "stdout",
     "output_type": "stream",
     "text": [
      "Epoch 1/30\n",
      "254/256 [============================>.] - ETA: 0s - loss: 11.1630 - mse: 11.1630 - mae: 2.1768 - mape: 29.5635WARNING:tensorflow:Your input ran out of data; interrupting training. Make sure that your dataset or generator can generate at least `steps_per_epoch * epochs` batches (in this case, 256 batches). You may need to use the repeat() function when building your dataset.\n",
      "256/256 [==============================] - 16s 14ms/step - loss: 11.1049 - mse: 11.1049 - mae: 2.1700 - mape: 29.4784 - val_loss: 2.3990 - val_mse: 2.3990 - val_mae: 1.1861 - val_mape: 18.5217\n",
      "Epoch 2/30\n",
      "256/256 [==============================] - 2s 9ms/step - loss: 2.1166 - mse: 2.1166 - mae: 1.1169 - mape: 17.9339\n",
      "Epoch 3/30\n",
      "256/256 [==============================] - 2s 9ms/step - loss: 2.0079 - mse: 2.0079 - mae: 1.0852 - mape: 17.4432\n",
      "Epoch 4/30\n",
      "256/256 [==============================] - 2s 9ms/step - loss: 1.9565 - mse: 1.9565 - mae: 1.0688 - mape: 17.1347\n",
      "Epoch 5/30\n",
      "256/256 [==============================] - 2s 9ms/step - loss: 1.9264 - mse: 1.9264 - mae: 1.0595 - mape: 16.9394\n",
      "Epoch 6/30\n",
      "256/256 [==============================] - 2s 9ms/step - loss: 1.9088 - mse: 1.9088 - mae: 1.0538 - mape: 16.8036\n",
      "Epoch 7/30\n",
      "256/256 [==============================] - 2s 9ms/step - loss: 1.8982 - mse: 1.8982 - mae: 1.0517 - mape: 16.7542\n",
      "Epoch 8/30\n",
      "256/256 [==============================] - 2s 9ms/step - loss: 1.8880 - mse: 1.8880 - mae: 1.0477 - mape: 16.6895\n",
      "Epoch 9/30\n",
      "256/256 [==============================] - 2s 9ms/step - loss: 1.8784 - mse: 1.8784 - mae: 1.0447 - mape: 16.6341\n",
      "Epoch 10/30\n",
      "256/256 [==============================] - 2s 9ms/step - loss: 1.8651 - mse: 1.8651 - mae: 1.0411 - mape: 16.5423\n",
      "Epoch 11/30\n",
      "256/256 [==============================] - 2s 9ms/step - loss: 1.8496 - mse: 1.8496 - mae: 1.0363 - mape: 16.4333\n",
      "Epoch 12/30\n",
      "256/256 [==============================] - 2s 9ms/step - loss: 1.8250 - mse: 1.8250 - mae: 1.0294 - mape: 16.2712\n",
      "Epoch 13/30\n",
      "256/256 [==============================] - 2s 9ms/step - loss: 1.8110 - mse: 1.8110 - mae: 1.0252 - mape: 16.1690\n",
      "Epoch 14/30\n",
      "256/256 [==============================] - 2s 9ms/step - loss: 1.7853 - mse: 1.7853 - mae: 1.0171 - mape: 16.0039\n",
      "Epoch 15/30\n",
      "256/256 [==============================] - 2s 9ms/step - loss: 1.7652 - mse: 1.7652 - mae: 1.0104 - mape: 15.8774\n",
      "Epoch 16/30\n",
      "256/256 [==============================] - 2s 9ms/step - loss: 1.7450 - mse: 1.7450 - mae: 1.0046 - mape: 15.7479\n",
      "Epoch 17/30\n",
      "256/256 [==============================] - 2s 9ms/step - loss: 1.7240 - mse: 1.7240 - mae: 0.9975 - mape: 15.5974\n",
      "Epoch 18/30\n",
      "256/256 [==============================] - 2s 9ms/step - loss: 1.7054 - mse: 1.7054 - mae: 0.9923 - mape: 15.4992\n",
      "Epoch 19/30\n",
      "256/256 [==============================] - 2s 9ms/step - loss: 1.6852 - mse: 1.6852 - mae: 0.9857 - mape: 15.3515\n",
      "Epoch 20/30\n",
      "256/256 [==============================] - 2s 9ms/step - loss: 1.6651 - mse: 1.6651 - mae: 0.9792 - mape: 15.2185\n",
      "Epoch 21/30\n",
      "256/256 [==============================] - 2s 9ms/step - loss: 1.6378 - mse: 1.6378 - mae: 0.9702 - mape: 15.0609\n",
      "Epoch 22/30\n",
      "256/256 [==============================] - 2s 9ms/step - loss: 1.6141 - mse: 1.6141 - mae: 0.9620 - mape: 14.9198\n",
      "Epoch 23/30\n",
      "256/256 [==============================] - 2s 9ms/step - loss: 1.5902 - mse: 1.5902 - mae: 0.9538 - mape: 14.7742\n",
      "Epoch 24/30\n",
      "256/256 [==============================] - 2s 9ms/step - loss: 1.5718 - mse: 1.5718 - mae: 0.9473 - mape: 14.6298\n",
      "Epoch 25/30\n",
      "256/256 [==============================] - 2s 9ms/step - loss: 1.5447 - mse: 1.5447 - mae: 0.9380 - mape: 14.4822\n",
      "Epoch 26/30\n",
      "256/256 [==============================] - 2s 9ms/step - loss: 1.5220 - mse: 1.5220 - mae: 0.9296 - mape: 14.3252\n",
      "Epoch 27/30\n",
      "256/256 [==============================] - 2s 9ms/step - loss: 1.5017 - mse: 1.5017 - mae: 0.9227 - mape: 14.1978\n",
      "Epoch 28/30\n",
      "256/256 [==============================] - 2s 9ms/step - loss: 1.4818 - mse: 1.4818 - mae: 0.9158 - mape: 14.0726\n",
      "Epoch 29/30\n",
      "256/256 [==============================] - 2s 9ms/step - loss: 1.4641 - mse: 1.4641 - mae: 0.9094 - mape: 13.9516\n",
      "Epoch 30/30\n",
      "256/256 [==============================] - 2s 9ms/step - loss: 1.4451 - mse: 1.4451 - mae: 0.9032 - mape: 13.8371\n"
     ]
    }
   ],
   "source": [
    "hist = model.fit(train_data, train_target,\n",
    "                 validation_data=(valid_data, valid_target),\n",
    "                 steps_per_epoch=256,\n",
    "                 validation_steps=256,\n",
    "                 epochs=30)"
   ]
  },
  {
   "cell_type": "code",
   "execution_count": null,
   "metadata": {
    "colab": {
     "base_uri": "https://localhost:8080/"
    },
    "executionInfo": {
     "elapsed": 9779,
     "status": "ok",
     "timestamp": 1653773060110,
     "user": {
      "displayName": "이지평",
      "userId": "04288060060884002898"
     },
     "user_tz": -540
    },
    "id": "f3cd8771",
    "outputId": "d25371e8-7859-4fca-f49b-884eb059edbc"
   },
   "outputs": [
    {
     "name": "stdout",
     "output_type": "stream",
     "text": [
      "2500/2500 [==============================] - 10s 4ms/step - loss: 2.6542 - mse: 2.6542 - mae: 1.2237 - mape: 19.6651\n",
      "[2.6542153358459473, 2.6542153358459473, 1.2236980199813843, 19.66508674621582]\n"
     ]
    }
   ],
   "source": [
    "# scores = model.evaluate_generator(_evaluate_generator('train_whole_list_5s.txt','test_whole_list_5s.txt'),steps=134103)\n",
    "# scores = model.evaluate_generator(_evaluate_generator('train_whole_list_10.txt','test_whole_list_10.txt'),steps=34266)\n",
    "# scores = model.evaluate_generator(_evaluate_generator('train_whole_list_6s.txt','test_whole_list_6s.txt'),steps=134103)\n",
    "scores = model.evaluate(test_data, test_target, steps=2500)\n",
    "print(scores)"
   ]
  },
  {
   "cell_type": "code",
   "execution_count": null,
   "metadata": {
    "id": "d67b1917"
   },
   "outputs": [],
   "source": [
    "model.save(path+\"Anime_30\")"
   ]
  },
  {
   "cell_type": "code",
   "execution_count": null,
   "metadata": {
    "id": "ajIfTsjDsV3A"
   },
   "outputs": [],
   "source": []
  },
  {
   "cell_type": "code",
   "execution_count": null,
   "metadata": {
    "id": "2a770561"
   },
   "outputs": [],
   "source": []
  },
  {
   "cell_type": "code",
   "execution_count": null,
   "metadata": {
    "id": "5a564620"
   },
   "outputs": [],
   "source": []
  },
  {
   "cell_type": "code",
   "execution_count": null,
   "metadata": {
    "id": "2981ce4f"
   },
   "outputs": [],
   "source": []
  }
 ],
 "metadata": {
  "accelerator": "GPU",
  "colab": {
   "collapsed_sections": [],
   "machine_shape": "hm",
   "name": "Multi_head_conv1d.ipynb",
   "provenance": []
  },
  "interpreter": {
   "hash": "88632544536f896c8f35d918b5e3583a50162ec118335e005391c3e813c5eb36"
  },
  "kernelspec": {
   "display_name": "Python 3",
   "language": "python",
   "name": "python3"
  },
  "language_info": {
   "codemirror_mode": {
    "name": "ipython",
    "version": 3
   },
   "file_extension": ".py",
   "mimetype": "text/x-python",
   "name": "python",
   "nbconvert_exporter": "python",
   "pygments_lexer": "ipython3",
   "version": "3.8.5"
  },
  "varInspector": {
   "cols": {
    "lenName": 16,
    "lenType": 16,
    "lenVar": 40
   },
   "kernels_config": {
    "python": {
     "delete_cmd_postfix": "",
     "delete_cmd_prefix": "del ",
     "library": "var_list.py",
     "varRefreshCmd": "print(var_dic_list())"
    },
    "r": {
     "delete_cmd_postfix": ") ",
     "delete_cmd_prefix": "rm(",
     "library": "var_list.r",
     "varRefreshCmd": "cat(var_dic_list()) "
    }
   },
   "types_to_exclude": [
    "module",
    "function",
    "builtin_function_or_method",
    "instance",
    "_Feature"
   ],
   "window_display": false
  }
 },
 "nbformat": 4,
 "nbformat_minor": 5
}
